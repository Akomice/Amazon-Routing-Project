{
 "cells": [
  {
   "cell_type": "code",
   "execution_count": 2,
   "metadata": {
    "tags": []
   },
   "outputs": [
    {
     "name": "stdout",
     "output_type": "stream",
     "text": [
      "The JSON file has 2 routes.\n"
     ]
    }
   ],
   "source": [
    "import json\n",
    "# load the JSON file\n",
    "with open('/Users/typh/Documents/ProjetRecherche2023/model_build_inputs/route_data_solo.json') as f:\n",
    "    route = json.load(f)\n",
    "\n",
    "# count the number of keys\n",
    "num_routes = len(route.keys())\n",
    "\n",
    "print(f\"The JSON file has {num_routes} routes.\")"
   ]
  },
  {
   "cell_type": "code",
   "execution_count": 110,
   "metadata": {},
   "outputs": [],
   "source": [
    "#Les routes ID dans le fichier\n",
    "#route.keys()"
   ]
  },
  {
   "cell_type": "code",
   "execution_count": 111,
   "metadata": {},
   "outputs": [],
   "source": [
    "#nombre de stops par route\n",
    "#for i in route.keys():\n",
    "#    print(len(route[i]['stops'].keys()))"
   ]
  },
  {
   "cell_type": "code",
   "execution_count": 112,
   "metadata": {},
   "outputs": [],
   "source": [
    "#Les stops de chaque route\n",
    "#for i in route.keys():\n",
    "#    print(route[i]['stops'].keys())"
   ]
  },
  {
   "cell_type": "code",
   "execution_count": 3,
   "metadata": {
    "tags": []
   },
   "outputs": [
    {
     "data": {
      "text/html": [
       "<div>\n",
       "<style scoped>\n",
       "    .dataframe tbody tr th:only-of-type {\n",
       "        vertical-align: middle;\n",
       "    }\n",
       "\n",
       "    .dataframe tbody tr th {\n",
       "        vertical-align: top;\n",
       "    }\n",
       "\n",
       "    .dataframe thead th {\n",
       "        text-align: right;\n",
       "    }\n",
       "</style>\n",
       "<table border=\"1\" class=\"dataframe\">\n",
       "  <thead>\n",
       "    <tr style=\"text-align: right;\">\n",
       "      <th></th>\n",
       "      <th>RouteID_00143bdd-0a6b-49ec-bb35-36593d303e77</th>\n",
       "      <th>RouteID_0016bc70-cb8d-48b0-aa55-8ee50bdcdb59</th>\n",
       "    </tr>\n",
       "  </thead>\n",
       "  <tbody>\n",
       "    <tr>\n",
       "      <th>station_code</th>\n",
       "      <td>DLA3</td>\n",
       "      <td>DSE4</td>\n",
       "    </tr>\n",
       "    <tr>\n",
       "      <th>date_YYYY_MM_DD</th>\n",
       "      <td>2018-07-27</td>\n",
       "      <td>2018-07-28</td>\n",
       "    </tr>\n",
       "    <tr>\n",
       "      <th>departure_time_utc</th>\n",
       "      <td>16:02:10</td>\n",
       "      <td>15:44:41</td>\n",
       "    </tr>\n",
       "    <tr>\n",
       "      <th>executor_capacity_cm3</th>\n",
       "      <td>3313071.0</td>\n",
       "      <td>4247527.0</td>\n",
       "    </tr>\n",
       "    <tr>\n",
       "      <th>route_score</th>\n",
       "      <td>High</td>\n",
       "      <td>High</td>\n",
       "    </tr>\n",
       "    <tr>\n",
       "      <th>stops</th>\n",
       "      <td>{'AD': {'lat': 34.099611, 'lng': -118.283062, ...</td>\n",
       "      <td>{'AC': {'lat': 47.689446, 'lng': -122.296071, ...</td>\n",
       "    </tr>\n",
       "  </tbody>\n",
       "</table>\n",
       "</div>"
      ],
      "text/plain": [
       "                            RouteID_00143bdd-0a6b-49ec-bb35-36593d303e77  \\\n",
       "station_code                                                        DLA3   \n",
       "date_YYYY_MM_DD                                               2018-07-27   \n",
       "departure_time_utc                                              16:02:10   \n",
       "executor_capacity_cm3                                          3313071.0   \n",
       "route_score                                                         High   \n",
       "stops                  {'AD': {'lat': 34.099611, 'lng': -118.283062, ...   \n",
       "\n",
       "                            RouteID_0016bc70-cb8d-48b0-aa55-8ee50bdcdb59  \n",
       "station_code                                                        DSE4  \n",
       "date_YYYY_MM_DD                                               2018-07-28  \n",
       "departure_time_utc                                              15:44:41  \n",
       "executor_capacity_cm3                                          4247527.0  \n",
       "route_score                                                         High  \n",
       "stops                  {'AC': {'lat': 47.689446, 'lng': -122.296071, ...  "
      ]
     },
     "execution_count": 3,
     "metadata": {},
     "output_type": "execute_result"
    }
   ],
   "source": [
    "import pandas as pd\n",
    "df=pd.DataFrame(route)\n",
    "df"
   ]
  },
  {
   "cell_type": "markdown",
   "metadata": {},
   "source": [
    "<h2> Affichage des stops <h2>"
   ]
  },
  {
   "cell_type": "code",
   "execution_count": 10,
   "metadata": {
    "tags": []
   },
   "outputs": [],
   "source": [
    "#Création d'un nouveau dictionnaire ne contenant que les routes , les stops , les zones ids , les latitudes et longitudes\n",
    "route_data = {}\n",
    "# Parcourir les clés du dictionnaire route\n",
    "for i in route.keys():\n",
    "    # Créer un sous-dictionnaire pour chaque route\n",
    "    route_data[i] = {}\n",
    "    # Extraire les données de \"stops\" pour la route actuelle\n",
    "    stops = route[i]['stops']\n",
    "    # Parcourir les clés de \"stops\" et extraire les \"zone_id\", \"latitude\" et \"longitude\"\n",
    "    for j in stops.keys():\n",
    "        # Extraire les informations de \"zone_id\", \"latitude\" et \"longitude\"\n",
    "        zone_id = stops[j]['zone_id']\n",
    "        latitude = stops[j]['lat']\n",
    "        longitude = stops[j]['lng']\n",
    "        # Ajouter les informations extraites au sous-dictionnaire de la route actuelle\n",
    "        route_data[i][j] = {\n",
    "            'zone_id': zone_id,\n",
    "            'latitude': latitude,\n",
    "            'longitude': longitude\n",
    "        }\n",
    "\n",
    "# Afficher le dictionnaire résultat\n",
    "#print(route_data)"
   ]
  },
  {
   "cell_type": "code",
   "execution_count": 11,
   "metadata": {
    "tags": []
   },
   "outputs": [
    {
     "data": {
      "text/html": [
       "<div>\n",
       "<style scoped>\n",
       "    .dataframe tbody tr th:only-of-type {\n",
       "        vertical-align: middle;\n",
       "    }\n",
       "\n",
       "    .dataframe tbody tr th {\n",
       "        vertical-align: top;\n",
       "    }\n",
       "\n",
       "    .dataframe thead th {\n",
       "        text-align: right;\n",
       "    }\n",
       "</style>\n",
       "<table border=\"1\" class=\"dataframe\">\n",
       "  <thead>\n",
       "    <tr style=\"text-align: right;\">\n",
       "      <th></th>\n",
       "      <th>AD</th>\n",
       "      <th>AF</th>\n",
       "      <th>AG</th>\n",
       "      <th>BA</th>\n",
       "      <th>BE</th>\n",
       "      <th>BG</th>\n",
       "      <th>BP</th>\n",
       "      <th>BT</th>\n",
       "      <th>BY</th>\n",
       "      <th>BZ</th>\n",
       "      <th>...</th>\n",
       "      <th>XX</th>\n",
       "      <th>XZ</th>\n",
       "      <th>YB</th>\n",
       "      <th>YK</th>\n",
       "      <th>YM</th>\n",
       "      <th>YX</th>\n",
       "      <th>ZF</th>\n",
       "      <th>ZL</th>\n",
       "      <th>ZS</th>\n",
       "      <th>ZV</th>\n",
       "    </tr>\n",
       "  </thead>\n",
       "  <tbody>\n",
       "    <tr>\n",
       "      <th>RouteID_00143bdd-0a6b-49ec-bb35-36593d303e77</th>\n",
       "      <td>{'zone_id': 'P-12.3C', 'latitude': 34.099611, ...</td>\n",
       "      <td>{'zone_id': 'A-1.2D', 'latitude': 34.101587, '...</td>\n",
       "      <td>{'zone_id': 'A-2.1A', 'latitude': 34.089727, '...</td>\n",
       "      <td>{'zone_id': 'A-1.2C', 'latitude': 34.096132, '...</td>\n",
       "      <td>{'zone_id': 'P-13.3B', 'latitude': 34.098482, ...</td>\n",
       "      <td>{'zone_id': 'P-13.2A', 'latitude': 34.102251, ...</td>\n",
       "      <td>{'zone_id': 'P-13.2C', 'latitude': 34.095585, ...</td>\n",
       "      <td>{'zone_id': 'A-1.1D', 'latitude': 34.101474, '...</td>\n",
       "      <td>{'zone_id': 'A-1.1A', 'latitude': 34.091721, '...</td>\n",
       "      <td>{'zone_id': 'P-13.1C', 'latitude': 34.098179, ...</td>\n",
       "      <td>...</td>\n",
       "      <td>NaN</td>\n",
       "      <td>NaN</td>\n",
       "      <td>NaN</td>\n",
       "      <td>NaN</td>\n",
       "      <td>NaN</td>\n",
       "      <td>NaN</td>\n",
       "      <td>NaN</td>\n",
       "      <td>NaN</td>\n",
       "      <td>NaN</td>\n",
       "      <td>NaN</td>\n",
       "    </tr>\n",
       "    <tr>\n",
       "      <th>RouteID_0016bc70-cb8d-48b0-aa55-8ee50bdcdb59</th>\n",
       "      <td>NaN</td>\n",
       "      <td>NaN</td>\n",
       "      <td>{'zone_id': 'D-2.3C', 'latitude': 47.676683, '...</td>\n",
       "      <td>{'zone_id': 'D-2.3A', 'latitude': 47.684871, '...</td>\n",
       "      <td>NaN</td>\n",
       "      <td>NaN</td>\n",
       "      <td>{'zone_id': 'D-3.2A', 'latitude': 47.683784, '...</td>\n",
       "      <td>NaN</td>\n",
       "      <td>{'zone_id': 'D-2.2A', 'latitude': 47.685477, '...</td>\n",
       "      <td>NaN</td>\n",
       "      <td>...</td>\n",
       "      <td>{'zone_id': 'D-2.2A', 'latitude': 47.684718, '...</td>\n",
       "      <td>{'zone_id': 'D-2.2B', 'latitude': 47.680476, '...</td>\n",
       "      <td>{'zone_id': 'D-2.3C', 'latitude': 47.675355, '...</td>\n",
       "      <td>{'zone_id': 'D-3.2A', 'latitude': 47.686274, '...</td>\n",
       "      <td>{'zone_id': 'D-2.1B', 'latitude': 47.680176, '...</td>\n",
       "      <td>{'zone_id': 'D-2.1B', 'latitude': 47.677638, '...</td>\n",
       "      <td>{'zone_id': 'D-2.2B', 'latitude': 47.67643, 'l...</td>\n",
       "      <td>{'zone_id': 'D-2.1B', 'latitude': 47.678982, '...</td>\n",
       "      <td>{'zone_id': 'D-2.2B', 'latitude': 47.677589, '...</td>\n",
       "      <td>{'zone_id': 'D-2.3B', 'latitude': 47.678334, '...</td>\n",
       "    </tr>\n",
       "  </tbody>\n",
       "</table>\n",
       "<p>2 rows × 205 columns</p>\n",
       "</div>"
      ],
      "text/plain": [
       "                                                                                             AD  \\\n",
       "RouteID_00143bdd-0a6b-49ec-bb35-36593d303e77  {'zone_id': 'P-12.3C', 'latitude': 34.099611, ...   \n",
       "RouteID_0016bc70-cb8d-48b0-aa55-8ee50bdcdb59                                                NaN   \n",
       "\n",
       "                                                                                             AF  \\\n",
       "RouteID_00143bdd-0a6b-49ec-bb35-36593d303e77  {'zone_id': 'A-1.2D', 'latitude': 34.101587, '...   \n",
       "RouteID_0016bc70-cb8d-48b0-aa55-8ee50bdcdb59                                                NaN   \n",
       "\n",
       "                                                                                             AG  \\\n",
       "RouteID_00143bdd-0a6b-49ec-bb35-36593d303e77  {'zone_id': 'A-2.1A', 'latitude': 34.089727, '...   \n",
       "RouteID_0016bc70-cb8d-48b0-aa55-8ee50bdcdb59  {'zone_id': 'D-2.3C', 'latitude': 47.676683, '...   \n",
       "\n",
       "                                                                                             BA  \\\n",
       "RouteID_00143bdd-0a6b-49ec-bb35-36593d303e77  {'zone_id': 'A-1.2C', 'latitude': 34.096132, '...   \n",
       "RouteID_0016bc70-cb8d-48b0-aa55-8ee50bdcdb59  {'zone_id': 'D-2.3A', 'latitude': 47.684871, '...   \n",
       "\n",
       "                                                                                             BE  \\\n",
       "RouteID_00143bdd-0a6b-49ec-bb35-36593d303e77  {'zone_id': 'P-13.3B', 'latitude': 34.098482, ...   \n",
       "RouteID_0016bc70-cb8d-48b0-aa55-8ee50bdcdb59                                                NaN   \n",
       "\n",
       "                                                                                             BG  \\\n",
       "RouteID_00143bdd-0a6b-49ec-bb35-36593d303e77  {'zone_id': 'P-13.2A', 'latitude': 34.102251, ...   \n",
       "RouteID_0016bc70-cb8d-48b0-aa55-8ee50bdcdb59                                                NaN   \n",
       "\n",
       "                                                                                             BP  \\\n",
       "RouteID_00143bdd-0a6b-49ec-bb35-36593d303e77  {'zone_id': 'P-13.2C', 'latitude': 34.095585, ...   \n",
       "RouteID_0016bc70-cb8d-48b0-aa55-8ee50bdcdb59  {'zone_id': 'D-3.2A', 'latitude': 47.683784, '...   \n",
       "\n",
       "                                                                                             BT  \\\n",
       "RouteID_00143bdd-0a6b-49ec-bb35-36593d303e77  {'zone_id': 'A-1.1D', 'latitude': 34.101474, '...   \n",
       "RouteID_0016bc70-cb8d-48b0-aa55-8ee50bdcdb59                                                NaN   \n",
       "\n",
       "                                                                                             BY  \\\n",
       "RouteID_00143bdd-0a6b-49ec-bb35-36593d303e77  {'zone_id': 'A-1.1A', 'latitude': 34.091721, '...   \n",
       "RouteID_0016bc70-cb8d-48b0-aa55-8ee50bdcdb59  {'zone_id': 'D-2.2A', 'latitude': 47.685477, '...   \n",
       "\n",
       "                                                                                             BZ  \\\n",
       "RouteID_00143bdd-0a6b-49ec-bb35-36593d303e77  {'zone_id': 'P-13.1C', 'latitude': 34.098179, ...   \n",
       "RouteID_0016bc70-cb8d-48b0-aa55-8ee50bdcdb59                                                NaN   \n",
       "\n",
       "                                              ...  \\\n",
       "RouteID_00143bdd-0a6b-49ec-bb35-36593d303e77  ...   \n",
       "RouteID_0016bc70-cb8d-48b0-aa55-8ee50bdcdb59  ...   \n",
       "\n",
       "                                                                                             XX  \\\n",
       "RouteID_00143bdd-0a6b-49ec-bb35-36593d303e77                                                NaN   \n",
       "RouteID_0016bc70-cb8d-48b0-aa55-8ee50bdcdb59  {'zone_id': 'D-2.2A', 'latitude': 47.684718, '...   \n",
       "\n",
       "                                                                                             XZ  \\\n",
       "RouteID_00143bdd-0a6b-49ec-bb35-36593d303e77                                                NaN   \n",
       "RouteID_0016bc70-cb8d-48b0-aa55-8ee50bdcdb59  {'zone_id': 'D-2.2B', 'latitude': 47.680476, '...   \n",
       "\n",
       "                                                                                             YB  \\\n",
       "RouteID_00143bdd-0a6b-49ec-bb35-36593d303e77                                                NaN   \n",
       "RouteID_0016bc70-cb8d-48b0-aa55-8ee50bdcdb59  {'zone_id': 'D-2.3C', 'latitude': 47.675355, '...   \n",
       "\n",
       "                                                                                             YK  \\\n",
       "RouteID_00143bdd-0a6b-49ec-bb35-36593d303e77                                                NaN   \n",
       "RouteID_0016bc70-cb8d-48b0-aa55-8ee50bdcdb59  {'zone_id': 'D-3.2A', 'latitude': 47.686274, '...   \n",
       "\n",
       "                                                                                             YM  \\\n",
       "RouteID_00143bdd-0a6b-49ec-bb35-36593d303e77                                                NaN   \n",
       "RouteID_0016bc70-cb8d-48b0-aa55-8ee50bdcdb59  {'zone_id': 'D-2.1B', 'latitude': 47.680176, '...   \n",
       "\n",
       "                                                                                             YX  \\\n",
       "RouteID_00143bdd-0a6b-49ec-bb35-36593d303e77                                                NaN   \n",
       "RouteID_0016bc70-cb8d-48b0-aa55-8ee50bdcdb59  {'zone_id': 'D-2.1B', 'latitude': 47.677638, '...   \n",
       "\n",
       "                                                                                             ZF  \\\n",
       "RouteID_00143bdd-0a6b-49ec-bb35-36593d303e77                                                NaN   \n",
       "RouteID_0016bc70-cb8d-48b0-aa55-8ee50bdcdb59  {'zone_id': 'D-2.2B', 'latitude': 47.67643, 'l...   \n",
       "\n",
       "                                                                                             ZL  \\\n",
       "RouteID_00143bdd-0a6b-49ec-bb35-36593d303e77                                                NaN   \n",
       "RouteID_0016bc70-cb8d-48b0-aa55-8ee50bdcdb59  {'zone_id': 'D-2.1B', 'latitude': 47.678982, '...   \n",
       "\n",
       "                                                                                             ZS  \\\n",
       "RouteID_00143bdd-0a6b-49ec-bb35-36593d303e77                                                NaN   \n",
       "RouteID_0016bc70-cb8d-48b0-aa55-8ee50bdcdb59  {'zone_id': 'D-2.2B', 'latitude': 47.677589, '...   \n",
       "\n",
       "                                                                                             ZV  \n",
       "RouteID_00143bdd-0a6b-49ec-bb35-36593d303e77                                                NaN  \n",
       "RouteID_0016bc70-cb8d-48b0-aa55-8ee50bdcdb59  {'zone_id': 'D-2.3B', 'latitude': 47.678334, '...  \n",
       "\n",
       "[2 rows x 205 columns]"
      ]
     },
     "execution_count": 11,
     "metadata": {},
     "output_type": "execute_result"
    }
   ],
   "source": [
    "import pandas as pd\n",
    "# Convertir le dictionnaire en dataframe\n",
    "df = pd.DataFrame.from_dict(route_data, orient='index')\n",
    "# Afficher le dataframe\n",
    "df.head()"
   ]
  },
  {
   "cell_type": "code",
   "execution_count": 117,
   "metadata": {},
   "outputs": [],
   "source": [
    "#verification qu on a bien la zone , lat et lng comme info\n",
    "#df.iloc[0,0]"
   ]
  },
  {
   "cell_type": "code",
   "execution_count": 118,
   "metadata": {},
   "outputs": [
    {
     "name": "stdout",
     "output_type": "stream",
     "text": [
      "AD    {'zone_id': 'P-12.3C', 'latitude': 34.099611, ...\n",
      "AF    {'zone_id': 'A-1.2D', 'latitude': 34.101587, '...\n",
      "AG    {'zone_id': 'A-2.1A', 'latitude': 34.089727, '...\n",
      "BA    {'zone_id': 'A-1.2C', 'latitude': 34.096132, '...\n",
      "BE    {'zone_id': 'P-13.3B', 'latitude': 34.098482, ...\n",
      "                            ...                        \n",
      "SX                                                  NaN\n",
      "SU                                                  NaN\n",
      "UK                                                  NaN\n",
      "VK                                                  NaN\n",
      "BN                                                  NaN\n",
      "Name: RouteID_00143bdd-0a6b-49ec-bb35-36593d303e77, Length: 675, dtype: object\n"
     ]
    }
   ],
   "source": [
    "route_choisie=df.loc['RouteID_00143bdd-0a6b-49ec-bb35-36593d303e77']\n",
    "#route_choisie.head()\n",
    "print(route_choisie)"
   ]
  },
  {
   "cell_type": "code",
   "execution_count": 119,
   "metadata": {},
   "outputs": [
    {
     "data": {
      "text/plain": [
       "AD    {'zone_id': 'P-12.3C', 'latitude': 34.099611, ...\n",
       "AF    {'zone_id': 'A-1.2D', 'latitude': 34.101587, '...\n",
       "AG    {'zone_id': 'A-2.1A', 'latitude': 34.089727, '...\n",
       "BA    {'zone_id': 'A-1.2C', 'latitude': 34.096132, '...\n",
       "BE    {'zone_id': 'P-13.3B', 'latitude': 34.098482, ...\n",
       "Name: RouteID_00143bdd-0a6b-49ec-bb35-36593d303e77, dtype: object"
      ]
     },
     "execution_count": 119,
     "metadata": {},
     "output_type": "execute_result"
    }
   ],
   "source": [
    "route_choisie=route_choisie.dropna()\n",
    "route_choisie.head()"
   ]
  },
  {
   "cell_type": "code",
   "execution_count": 12,
   "metadata": {
    "tags": []
   },
   "outputs": [
    {
     "ename": "NameError",
     "evalue": "name 'route_choisie' is not defined",
     "output_type": "error",
     "traceback": [
      "\u001b[0;31m---------------------------------------------------------------------------\u001b[0m",
      "\u001b[0;31mNameError\u001b[0m                                 Traceback (most recent call last)",
      "Cell \u001b[0;32mIn[12], line 5\u001b[0m\n\u001b[1;32m      3\u001b[0m latitude\u001b[38;5;241m=\u001b[39m[]\n\u001b[1;32m      4\u001b[0m longitude\u001b[38;5;241m=\u001b[39m[]\n\u001b[0;32m----> 5\u001b[0m \u001b[38;5;28;01mfor\u001b[39;00m i \u001b[38;5;129;01min\u001b[39;00m \u001b[43mroute_choisie\u001b[49m\u001b[38;5;241m.\u001b[39mkeys():\n\u001b[1;32m      6\u001b[0m     zone_id\u001b[38;5;241m.\u001b[39mappend(route_choisie[i][\u001b[38;5;124m'\u001b[39m\u001b[38;5;124mzone_id\u001b[39m\u001b[38;5;124m'\u001b[39m])\n\u001b[1;32m      7\u001b[0m     latitude\u001b[38;5;241m.\u001b[39mappend(route_choisie[i][\u001b[38;5;124m'\u001b[39m\u001b[38;5;124mlatitude\u001b[39m\u001b[38;5;124m'\u001b[39m])\n",
      "\u001b[0;31mNameError\u001b[0m: name 'route_choisie' is not defined"
     ]
    }
   ],
   "source": [
    "import matplotlib.pyplot as plt\n",
    "zone_id=[]\n",
    "latitude=[]\n",
    "longitude=[]\n",
    "for i in route_choisie.keys():\n",
    "    zone_id.append(route_choisie[i]['zone_id'])\n",
    "    latitude.append(route_choisie[i]['latitude'])\n",
    "    longitude.append(route_choisie[i]['longitude'])"
   ]
  },
  {
   "cell_type": "code",
   "execution_count": 121,
   "metadata": {},
   "outputs": [
    {
     "data": {
      "text/html": [
       "<div>\n",
       "<style scoped>\n",
       "    .dataframe tbody tr th:only-of-type {\n",
       "        vertical-align: middle;\n",
       "    }\n",
       "\n",
       "    .dataframe tbody tr th {\n",
       "        vertical-align: top;\n",
       "    }\n",
       "\n",
       "    .dataframe thead th {\n",
       "        text-align: right;\n",
       "    }\n",
       "</style>\n",
       "<table border=\"1\" class=\"dataframe\">\n",
       "  <thead>\n",
       "    <tr style=\"text-align: right;\">\n",
       "      <th></th>\n",
       "      <th>stops</th>\n",
       "      <th>latitude</th>\n",
       "      <th>longitude</th>\n",
       "    </tr>\n",
       "  </thead>\n",
       "  <tbody>\n",
       "    <tr>\n",
       "      <th>0</th>\n",
       "      <td>AD</td>\n",
       "      <td>34.099611</td>\n",
       "      <td>-118.283062</td>\n",
       "    </tr>\n",
       "    <tr>\n",
       "      <th>1</th>\n",
       "      <td>AF</td>\n",
       "      <td>34.101587</td>\n",
       "      <td>-118.291125</td>\n",
       "    </tr>\n",
       "    <tr>\n",
       "      <th>2</th>\n",
       "      <td>AG</td>\n",
       "      <td>34.089727</td>\n",
       "      <td>-118.285530</td>\n",
       "    </tr>\n",
       "    <tr>\n",
       "      <th>3</th>\n",
       "      <td>BA</td>\n",
       "      <td>34.096132</td>\n",
       "      <td>-118.292869</td>\n",
       "    </tr>\n",
       "    <tr>\n",
       "      <th>4</th>\n",
       "      <td>BE</td>\n",
       "      <td>34.098482</td>\n",
       "      <td>-118.286243</td>\n",
       "    </tr>\n",
       "  </tbody>\n",
       "</table>\n",
       "</div>"
      ],
      "text/plain": [
       "  stops   latitude   longitude\n",
       "0    AD  34.099611 -118.283062\n",
       "1    AF  34.101587 -118.291125\n",
       "2    AG  34.089727 -118.285530\n",
       "3    BA  34.096132 -118.292869\n",
       "4    BE  34.098482 -118.286243"
      ]
     },
     "execution_count": 121,
     "metadata": {},
     "output_type": "execute_result"
    }
   ],
   "source": [
    "data = {'stops':route_choisie.keys(), 'latitude': latitude, 'longitude': longitude}\n",
    "# Créer le DataFrame à partir du dictionnaire\n",
    "df1 = pd.DataFrame(data)\n",
    "df1.head()"
   ]
  },
  {
   "cell_type": "code",
   "execution_count": 122,
   "metadata": {},
   "outputs": [
    {
     "data": {
      "text/plain": [
       "stops        0.0\n",
       "latitude     0.0\n",
       "longitude    0.0\n",
       "dtype: float64"
      ]
     },
     "execution_count": 122,
     "metadata": {},
     "output_type": "execute_result"
    }
   ],
   "source": [
    "#Pourcentage des valeurs manquantes dans notre dataset triés par ordre croissant\n",
    "(df1.isna().sum()/df1.shape[0]).sort_values(ascending=True)"
   ]
  },
  {
   "cell_type": "code",
   "execution_count": 125,
   "metadata": {},
   "outputs": [
    {
     "name": "stderr",
     "output_type": "stream",
     "text": [
      "C:\\Users\\hp\\anaconda3\\lib\\site-packages\\seaborn\\_decorators.py:36: FutureWarning: Pass the following variables as keyword args: x, y. From version 0.12, the only valid positional argument will be `data`, and passing other arguments without an explicit keyword will result in an error or misinterpretation.\n",
      "  warnings.warn(\n"
     ]
    },
    {
     "data": {
      "text/plain": [
       "<AxesSubplot:xlabel='latitude', ylabel='longitude'>"
      ]
     },
     "execution_count": 125,
     "metadata": {},
     "output_type": "execute_result"
    },
    {
     "data": {
      "image/png": "[encoded data removed]",
      "text/plain": [
       "<Figure size 432x288 with 1 Axes>"
      ]
     },
     "metadata": {
      "needs_background": "light"
     },
     "output_type": "display_data"
    }
   ],
   "source": [
    "import seaborn as sns\n",
    "sns.scatterplot(df1['latitude'],df1['longitude'],s=2)"
   ]
  },
  {
   "cell_type": "markdown",
   "metadata": {
    "jp-MarkdownHeadingCollapsed": true,
    "tags": []
   },
   "source": [
    "<h2> Clustering avec les coordonées GPS des stops</h2>"
   ]
  },
  {
   "cell_type": "code",
   "execution_count": 129,
   "metadata": {},
   "outputs": [
    {
     "name": "stderr",
     "output_type": "stream",
     "text": [
      "C:\\Users\\hp\\anaconda3\\lib\\site-packages\\sklearn\\cluster\\_kmeans.py:870: FutureWarning: The default value of `n_init` will change from 10 to 'auto' in 1.4. Set the value of `n_init` explicitly to suppress the warning\n",
      "  warnings.warn(\n",
      "C:\\Users\\hp\\anaconda3\\lib\\site-packages\\sklearn\\cluster\\_kmeans.py:1382: UserWarning: KMeans is known to have a memory leak on Windows with MKL, when there are less chunks than available threads. You can avoid it by setting the environment variable OMP_NUM_THREADS=1.\n",
      "  warnings.warn(\n",
      "C:\\Users\\hp\\anaconda3\\lib\\site-packages\\sklearn\\cluster\\_kmeans.py:870: FutureWarning: The default value of `n_init` will change from 10 to 'auto' in 1.4. Set the value of `n_init` explicitly to suppress the warning\n",
      "  warnings.warn(\n",
      "C:\\Users\\hp\\anaconda3\\lib\\site-packages\\sklearn\\cluster\\_kmeans.py:1382: UserWarning: KMeans is known to have a memory leak on Windows with MKL, when there are less chunks than available threads. You can avoid it by setting the environment variable OMP_NUM_THREADS=1.\n",
      "  warnings.warn(\n",
      "C:\\Users\\hp\\anaconda3\\lib\\site-packages\\sklearn\\cluster\\_kmeans.py:870: FutureWarning: The default value of `n_init` will change from 10 to 'auto' in 1.4. Set the value of `n_init` explicitly to suppress the warning\n",
      "  warnings.warn(\n",
      "C:\\Users\\hp\\anaconda3\\lib\\site-packages\\sklearn\\cluster\\_kmeans.py:1382: UserWarning: KMeans is known to have a memory leak on Windows with MKL, when there are less chunks than available threads. You can avoid it by setting the environment variable OMP_NUM_THREADS=1.\n",
      "  warnings.warn(\n",
      "C:\\Users\\hp\\anaconda3\\lib\\site-packages\\sklearn\\cluster\\_kmeans.py:870: FutureWarning: The default value of `n_init` will change from 10 to 'auto' in 1.4. Set the value of `n_init` explicitly to suppress the warning\n",
      "  warnings.warn(\n",
      "C:\\Users\\hp\\anaconda3\\lib\\site-packages\\sklearn\\cluster\\_kmeans.py:1382: UserWarning: KMeans is known to have a memory leak on Windows with MKL, when there are less chunks than available threads. You can avoid it by setting the environment variable OMP_NUM_THREADS=1.\n",
      "  warnings.warn(\n",
      "C:\\Users\\hp\\anaconda3\\lib\\site-packages\\sklearn\\cluster\\_kmeans.py:870: FutureWarning: The default value of `n_init` will change from 10 to 'auto' in 1.4. Set the value of `n_init` explicitly to suppress the warning\n",
      "  warnings.warn(\n",
      "C:\\Users\\hp\\anaconda3\\lib\\site-packages\\sklearn\\cluster\\_kmeans.py:1382: UserWarning: KMeans is known to have a memory leak on Windows with MKL, when there are less chunks than available threads. You can avoid it by setting the environment variable OMP_NUM_THREADS=1.\n",
      "  warnings.warn(\n",
      "C:\\Users\\hp\\anaconda3\\lib\\site-packages\\sklearn\\cluster\\_kmeans.py:870: FutureWarning: The default value of `n_init` will change from 10 to 'auto' in 1.4. Set the value of `n_init` explicitly to suppress the warning\n",
      "  warnings.warn(\n",
      "C:\\Users\\hp\\anaconda3\\lib\\site-packages\\sklearn\\cluster\\_kmeans.py:1382: UserWarning: KMeans is known to have a memory leak on Windows with MKL, when there are less chunks than available threads. You can avoid it by setting the environment variable OMP_NUM_THREADS=1.\n",
      "  warnings.warn(\n",
      "C:\\Users\\hp\\anaconda3\\lib\\site-packages\\sklearn\\cluster\\_kmeans.py:870: FutureWarning: The default value of `n_init` will change from 10 to 'auto' in 1.4. Set the value of `n_init` explicitly to suppress the warning\n",
      "  warnings.warn(\n",
      "C:\\Users\\hp\\anaconda3\\lib\\site-packages\\sklearn\\cluster\\_kmeans.py:1382: UserWarning: KMeans is known to have a memory leak on Windows with MKL, when there are less chunks than available threads. You can avoid it by setting the environment variable OMP_NUM_THREADS=1.\n",
      "  warnings.warn(\n",
      "C:\\Users\\hp\\anaconda3\\lib\\site-packages\\sklearn\\cluster\\_kmeans.py:870: FutureWarning: The default value of `n_init` will change from 10 to 'auto' in 1.4. Set the value of `n_init` explicitly to suppress the warning\n",
      "  warnings.warn(\n",
      "C:\\Users\\hp\\anaconda3\\lib\\site-packages\\sklearn\\cluster\\_kmeans.py:1382: UserWarning: KMeans is known to have a memory leak on Windows with MKL, when there are less chunks than available threads. You can avoid it by setting the environment variable OMP_NUM_THREADS=1.\n",
      "  warnings.warn(\n",
      "C:\\Users\\hp\\anaconda3\\lib\\site-packages\\sklearn\\cluster\\_kmeans.py:870: FutureWarning: The default value of `n_init` will change from 10 to 'auto' in 1.4. Set the value of `n_init` explicitly to suppress the warning\n",
      "  warnings.warn(\n",
      "C:\\Users\\hp\\anaconda3\\lib\\site-packages\\sklearn\\cluster\\_kmeans.py:1382: UserWarning: KMeans is known to have a memory leak on Windows with MKL, when there are less chunks than available threads. You can avoid it by setting the environment variable OMP_NUM_THREADS=1.\n",
      "  warnings.warn(\n"
     ]
    }
   ],
   "source": [
    "from sklearn.cluster import KMeans\n",
    "# Specify the range of clusters\n",
    "K_clusters = range(1, 10)\n",
    "# Create a list of KMeans objects with different number of clusters\n",
    "kmeans = [KMeans(n_clusters=i) for i in K_clusters]\n",
    "Y_axis=df1[['latitude']]\n",
    "X_axis=df1[['longitude']]\n",
    "# Fit and score the KMeans models using both latitude and longitude data\n",
    "score = [kmeans[i].fit(Y_axis).score(Y_axis) for i in range(len(kmeans))]"
   ]
  },
  {
   "cell_type": "code",
   "execution_count": 130,
   "metadata": {},
   "outputs": [
    {
     "data": {
      "image/png": "[encoded data removed]",
      "text/plain": [
       "<Figure size 432x288 with 1 Axes>"
      ]
     },
     "metadata": {
      "needs_background": "light"
     },
     "output_type": "display_data"
    }
   ],
   "source": [
    "# Visualize\n",
    "plt.plot(K_clusters, score)\n",
    "plt.xlabel('Number of Clusters')\n",
    "plt.ylabel('Score')\n",
    "plt.title('Elbow Curve')\n",
    "plt.show()"
   ]
  },
  {
   "cell_type": "code",
   "execution_count": 133,
   "metadata": {},
   "outputs": [
    {
     "name": "stderr",
     "output_type": "stream",
     "text": [
      "C:\\Users\\hp\\anaconda3\\lib\\site-packages\\sklearn\\cluster\\_kmeans.py:870: FutureWarning: The default value of `n_init` will change from 10 to 'auto' in 1.4. Set the value of `n_init` explicitly to suppress the warning\n",
      "  warnings.warn(\n",
      "C:\\Users\\hp\\anaconda3\\lib\\site-packages\\sklearn\\cluster\\_kmeans.py:1382: UserWarning: KMeans is known to have a memory leak on Windows with MKL, when there are less chunks than available threads. You can avoid it by setting the environment variable OMP_NUM_THREADS=1.\n",
      "  warnings.warn(\n",
      "C:\\Users\\hp\\anaconda3\\lib\\site-packages\\sklearn\\cluster\\_kmeans.py:870: FutureWarning: The default value of `n_init` will change from 10 to 'auto' in 1.4. Set the value of `n_init` explicitly to suppress the warning\n",
      "  warnings.warn(\n",
      "C:\\Users\\hp\\anaconda3\\lib\\site-packages\\sklearn\\cluster\\_kmeans.py:1382: UserWarning: KMeans is known to have a memory leak on Windows with MKL, when there are less chunks than available threads. You can avoid it by setting the environment variable OMP_NUM_THREADS=1.\n",
      "  warnings.warn(\n"
     ]
    },
    {
     "data": {
      "text/html": [
       "<div>\n",
       "<style scoped>\n",
       "    .dataframe tbody tr th:only-of-type {\n",
       "        vertical-align: middle;\n",
       "    }\n",
       "\n",
       "    .dataframe tbody tr th {\n",
       "        vertical-align: top;\n",
       "    }\n",
       "\n",
       "    .dataframe thead th {\n",
       "        text-align: right;\n",
       "    }\n",
       "</style>\n",
       "<table border=\"1\" class=\"dataframe\">\n",
       "  <thead>\n",
       "    <tr style=\"text-align: right;\">\n",
       "      <th></th>\n",
       "      <th>stops</th>\n",
       "      <th>latitude</th>\n",
       "      <th>longitude</th>\n",
       "      <th>cluster_label</th>\n",
       "    </tr>\n",
       "  </thead>\n",
       "  <tbody>\n",
       "    <tr>\n",
       "      <th>0</th>\n",
       "      <td>AD</td>\n",
       "      <td>34.099611</td>\n",
       "      <td>-118.283062</td>\n",
       "      <td>2</td>\n",
       "    </tr>\n",
       "    <tr>\n",
       "      <th>1</th>\n",
       "      <td>AF</td>\n",
       "      <td>34.101587</td>\n",
       "      <td>-118.291125</td>\n",
       "      <td>3</td>\n",
       "    </tr>\n",
       "    <tr>\n",
       "      <th>2</th>\n",
       "      <td>AG</td>\n",
       "      <td>34.089727</td>\n",
       "      <td>-118.285530</td>\n",
       "      <td>0</td>\n",
       "    </tr>\n",
       "    <tr>\n",
       "      <th>3</th>\n",
       "      <td>BA</td>\n",
       "      <td>34.096132</td>\n",
       "      <td>-118.292869</td>\n",
       "      <td>3</td>\n",
       "    </tr>\n",
       "    <tr>\n",
       "      <th>4</th>\n",
       "      <td>BE</td>\n",
       "      <td>34.098482</td>\n",
       "      <td>-118.286243</td>\n",
       "      <td>3</td>\n",
       "    </tr>\n",
       "    <tr>\n",
       "      <th>5</th>\n",
       "      <td>BG</td>\n",
       "      <td>34.102251</td>\n",
       "      <td>-118.287403</td>\n",
       "      <td>3</td>\n",
       "    </tr>\n",
       "    <tr>\n",
       "      <th>6</th>\n",
       "      <td>BP</td>\n",
       "      <td>34.095585</td>\n",
       "      <td>-118.281790</td>\n",
       "      <td>2</td>\n",
       "    </tr>\n",
       "    <tr>\n",
       "      <th>7</th>\n",
       "      <td>BT</td>\n",
       "      <td>34.101474</td>\n",
       "      <td>-118.289609</td>\n",
       "      <td>3</td>\n",
       "    </tr>\n",
       "    <tr>\n",
       "      <th>8</th>\n",
       "      <td>BY</td>\n",
       "      <td>34.091721</td>\n",
       "      <td>-118.284539</td>\n",
       "      <td>0</td>\n",
       "    </tr>\n",
       "    <tr>\n",
       "      <th>9</th>\n",
       "      <td>BZ</td>\n",
       "      <td>34.098179</td>\n",
       "      <td>-118.281075</td>\n",
       "      <td>2</td>\n",
       "    </tr>\n",
       "  </tbody>\n",
       "</table>\n",
       "</div>"
      ],
      "text/plain": [
       "  stops   latitude   longitude  cluster_label\n",
       "0    AD  34.099611 -118.283062              2\n",
       "1    AF  34.101587 -118.291125              3\n",
       "2    AG  34.089727 -118.285530              0\n",
       "3    BA  34.096132 -118.292869              3\n",
       "4    BE  34.098482 -118.286243              3\n",
       "5    BG  34.102251 -118.287403              3\n",
       "6    BP  34.095585 -118.281790              2\n",
       "7    BT  34.101474 -118.289609              3\n",
       "8    BY  34.091721 -118.284539              0\n",
       "9    BZ  34.098179 -118.281075              2"
      ]
     },
     "execution_count": 133,
     "metadata": {},
     "output_type": "execute_result"
    }
   ],
   "source": [
    "kmeans = KMeans(n_clusters =4, init ='k-means++')\n",
    "kmeans.fit(df1[df1.columns[1:3]]) # Compute k-means clustering.\n",
    "df1['cluster_label'] = kmeans.fit_predict(df1[df1.columns[1:3]])\n",
    "centers = kmeans.cluster_centers_ # Coordinates of cluster centers.\n",
    "labels = kmeans.predict(df1[df1.columns[1:3]]) # Labels of each point\n",
    "df1.head(10)"
   ]
  },
  {
   "cell_type": "code",
   "execution_count": 134,
   "metadata": {},
   "outputs": [
    {
     "data": {
      "image/png": "[encoded data removed]",
      "text/plain": [
       "<Figure size 864x576 with 1 Axes>"
      ]
     },
     "metadata": {
      "needs_background": "light"
     },
     "output_type": "display_data"
    }
   ],
   "source": [
    "import seaborn as sns\n",
    "import matplotlib.pyplot as plt\n",
    "\n",
    "# Créer la figure avec Seaborn\n",
    "plt.figure(figsize=(12,8))\n",
    "\n",
    "# Utiliser scatterplot() de Seaborn\n",
    "sns.scatterplot(x='latitude', y='longitude', data=df1 , hue=labels , s=10)\n",
    "# Afficher le plot\n",
    "plt.show()"
   ]
  },
  {
   "cell_type": "code",
   "execution_count": 136,
   "metadata": {},
   "outputs": [
    {
     "data": {
      "text/plain": [
       "2    43\n",
       "3    42\n",
       "0    33\n",
       "1     1\n",
       "Name: cluster_label, dtype: int64"
      ]
     },
     "execution_count": 136,
     "metadata": {},
     "output_type": "execute_result"
    }
   ],
   "source": [
    "df1['cluster_label'].value_counts()"
   ]
  },
  {
   "cell_type": "markdown",
   "metadata": {
    "jp-MarkdownHeadingCollapsed": true,
    "tags": []
   },
   "source": [
    "<h2> Regroupement des stops par zone_id</h2>"
   ]
  },
  {
   "cell_type": "code",
   "execution_count": 140,
   "metadata": {},
   "outputs": [],
   "source": [
    "import pandas as pd\n",
    "df=pd.DataFrame(route)"
   ]
  },
  {
   "cell_type": "code",
   "execution_count": 141,
   "metadata": {},
   "outputs": [
    {
     "data": {
      "text/html": [
       "<div>\n",
       "<style scoped>\n",
       "    .dataframe tbody tr th:only-of-type {\n",
       "        vertical-align: middle;\n",
       "    }\n",
       "\n",
       "    .dataframe tbody tr th {\n",
       "        vertical-align: top;\n",
       "    }\n",
       "\n",
       "    .dataframe thead th {\n",
       "        text-align: right;\n",
       "    }\n",
       "</style>\n",
       "<table border=\"1\" class=\"dataframe\">\n",
       "  <thead>\n",
       "    <tr style=\"text-align: right;\">\n",
       "      <th></th>\n",
       "      <th>lat</th>\n",
       "      <th>lng</th>\n",
       "      <th>type</th>\n",
       "      <th>zone_id</th>\n",
       "    </tr>\n",
       "  </thead>\n",
       "  <tbody>\n",
       "    <tr>\n",
       "      <th>AA</th>\n",
       "      <td>47.268</td>\n",
       "      <td>-122.508</td>\n",
       "      <td>Dropoff</td>\n",
       "      <td>A-2.2D</td>\n",
       "    </tr>\n",
       "    <tr>\n",
       "      <th>AD</th>\n",
       "      <td>47.274</td>\n",
       "      <td>-122.495</td>\n",
       "      <td>Dropoff</td>\n",
       "      <td>A-2.1C</td>\n",
       "    </tr>\n",
       "    <tr>\n",
       "      <th>AJ</th>\n",
       "      <td>47.259</td>\n",
       "      <td>-122.517</td>\n",
       "      <td>Dropoff</td>\n",
       "      <td>A-2.1D</td>\n",
       "    </tr>\n",
       "    <tr>\n",
       "      <th>AP</th>\n",
       "      <td>47.2792</td>\n",
       "      <td>-122.49</td>\n",
       "      <td>Dropoff</td>\n",
       "      <td>A-2.2B</td>\n",
       "    </tr>\n",
       "    <tr>\n",
       "      <th>AR</th>\n",
       "      <td>47.2602</td>\n",
       "      <td>-122.521</td>\n",
       "      <td>Dropoff</td>\n",
       "      <td>A-2.1E</td>\n",
       "    </tr>\n",
       "    <tr>\n",
       "      <th>...</th>\n",
       "      <td>...</td>\n",
       "      <td>...</td>\n",
       "      <td>...</td>\n",
       "      <td>...</td>\n",
       "    </tr>\n",
       "    <tr>\n",
       "      <th>YQ</th>\n",
       "      <td>47.2787</td>\n",
       "      <td>-122.495</td>\n",
       "      <td>Dropoff</td>\n",
       "      <td>A-2.2B</td>\n",
       "    </tr>\n",
       "    <tr>\n",
       "      <th>YX</th>\n",
       "      <td>47.2646</td>\n",
       "      <td>-122.513</td>\n",
       "      <td>Dropoff</td>\n",
       "      <td>A-2.2D</td>\n",
       "    </tr>\n",
       "    <tr>\n",
       "      <th>ZC</th>\n",
       "      <td>47.2675</td>\n",
       "      <td>-122.531</td>\n",
       "      <td>Dropoff</td>\n",
       "      <td>A-2.2E</td>\n",
       "    </tr>\n",
       "    <tr>\n",
       "      <th>ZI</th>\n",
       "      <td>47.2648</td>\n",
       "      <td>-122.519</td>\n",
       "      <td>Dropoff</td>\n",
       "      <td>A-2.1D</td>\n",
       "    </tr>\n",
       "    <tr>\n",
       "      <th>ZR</th>\n",
       "      <td>47.2688</td>\n",
       "      <td>-122.53</td>\n",
       "      <td>Dropoff</td>\n",
       "      <td>A-2.2E</td>\n",
       "    </tr>\n",
       "  </tbody>\n",
       "</table>\n",
       "<p>127 rows × 4 columns</p>\n",
       "</div>"
      ],
      "text/plain": [
       "        lat      lng     type zone_id\n",
       "AA   47.268 -122.508  Dropoff  A-2.2D\n",
       "AD   47.274 -122.495  Dropoff  A-2.1C\n",
       "AJ   47.259 -122.517  Dropoff  A-2.1D\n",
       "AP  47.2792  -122.49  Dropoff  A-2.2B\n",
       "AR  47.2602 -122.521  Dropoff  A-2.1E\n",
       "..      ...      ...      ...     ...\n",
       "YQ  47.2787 -122.495  Dropoff  A-2.2B\n",
       "YX  47.2646 -122.513  Dropoff  A-2.2D\n",
       "ZC  47.2675 -122.531  Dropoff  A-2.2E\n",
       "ZI  47.2648 -122.519  Dropoff  A-2.1D\n",
       "ZR  47.2688  -122.53  Dropoff  A-2.2E\n",
       "\n",
       "[127 rows x 4 columns]"
      ]
     },
     "execution_count": 141,
     "metadata": {},
     "output_type": "execute_result"
    }
   ],
   "source": [
    "d=pd.DataFrame.from_dict(df.loc['stops'][2], orient='columns')\n",
    "d1=d.T\n",
    "d1=d1.dropna()\n",
    "d1"
   ]
  },
  {
   "cell_type": "code",
   "execution_count": 142,
   "metadata": {},
   "outputs": [
    {
     "data": {
      "image/png": "[encoded data removed]",
      "text/plain": [
       "<Figure size 432x288 with 1 Axes>"
      ]
     },
     "metadata": {
      "needs_background": "light"
     },
     "output_type": "display_data"
    }
   ],
   "source": [
    "import seaborn as sns\n",
    "sns.scatterplot(data=d1,x=d1[\"lat\"], y=d1[\"lng\"], hue=d1[\"zone_id\"])\n",
    "plt.show()  "
   ]
  },
  {
   "cell_type": "code",
   "execution_count": 143,
   "metadata": {},
   "outputs": [
    {
     "data": {
      "text/plain": [
       "A-2.1E    18\n",
       "A-2.1D    17\n",
       "A-2.2B    16\n",
       "A-2.2D    15\n",
       "A-2.2C    15\n",
       "A-2.2E    13\n",
       "A-2.1C    12\n",
       "A-2.1B    12\n",
       "A-2.3C     8\n",
       "A-2.3D     1\n",
       "Name: zone_id, dtype: int64"
      ]
     },
     "execution_count": 143,
     "metadata": {},
     "output_type": "execute_result"
    }
   ],
   "source": [
    "d1['zone_id'] = d1['zone_id'].astype('category')  # Convertir en catégorie\n",
    "#d1['zone_id'] = d1['zone_id'].cat.codes  # Encoder en valeurs numériques\n",
    "d1['zone_id'].value_counts()"
   ]
  },
  {
   "cell_type": "code",
   "execution_count": null,
   "metadata": {},
   "outputs": [],
   "source": []
  },
  {
   "cell_type": "markdown",
   "metadata": {
    "jp-MarkdownHeadingCollapsed": true,
    "tags": []
   },
   "source": [
    "<h2>Regroupement des stops par prefixes des zones_id</h2>"
   ]
  },
  {
   "cell_type": "code",
   "execution_count": 144,
   "metadata": {},
   "outputs": [
    {
     "data": {
      "text/html": [
       "<div>\n",
       "<style scoped>\n",
       "    .dataframe tbody tr th:only-of-type {\n",
       "        vertical-align: middle;\n",
       "    }\n",
       "\n",
       "    .dataframe tbody tr th {\n",
       "        vertical-align: top;\n",
       "    }\n",
       "\n",
       "    .dataframe thead th {\n",
       "        text-align: right;\n",
       "    }\n",
       "</style>\n",
       "<table border=\"1\" class=\"dataframe\">\n",
       "  <thead>\n",
       "    <tr style=\"text-align: right;\">\n",
       "      <th></th>\n",
       "      <th>AB</th>\n",
       "      <th>AC</th>\n",
       "      <th>AG</th>\n",
       "      <th>AI</th>\n",
       "      <th>AU</th>\n",
       "      <th>AW</th>\n",
       "      <th>AY</th>\n",
       "      <th>BB</th>\n",
       "      <th>BE</th>\n",
       "      <th>BF</th>\n",
       "      <th>...</th>\n",
       "      <th>XE</th>\n",
       "      <th>XO</th>\n",
       "      <th>XY</th>\n",
       "      <th>XZ</th>\n",
       "      <th>YP</th>\n",
       "      <th>YR</th>\n",
       "      <th>YU</th>\n",
       "      <th>YY</th>\n",
       "      <th>ZD</th>\n",
       "      <th>ZN</th>\n",
       "    </tr>\n",
       "  </thead>\n",
       "  <tbody>\n",
       "    <tr>\n",
       "      <th>lat</th>\n",
       "      <td>33.8231</td>\n",
       "      <td>33.8293</td>\n",
       "      <td>33.8299</td>\n",
       "      <td>33.8288</td>\n",
       "      <td>33.8171</td>\n",
       "      <td>33.8237</td>\n",
       "      <td>33.8249</td>\n",
       "      <td>33.8156</td>\n",
       "      <td>33.8183</td>\n",
       "      <td>33.8318</td>\n",
       "      <td>...</td>\n",
       "      <td>33.8237</td>\n",
       "      <td>33.8195</td>\n",
       "      <td>33.8228</td>\n",
       "      <td>33.8289</td>\n",
       "      <td>33.8255</td>\n",
       "      <td>33.8156</td>\n",
       "      <td>33.8225</td>\n",
       "      <td>33.8253</td>\n",
       "      <td>33.819</td>\n",
       "      <td>33.8274</td>\n",
       "    </tr>\n",
       "    <tr>\n",
       "      <th>lng</th>\n",
       "      <td>-118.059</td>\n",
       "      <td>-118.044</td>\n",
       "      <td>-118.047</td>\n",
       "      <td>-118.062</td>\n",
       "      <td>-118.065</td>\n",
       "      <td>-118.053</td>\n",
       "      <td>-118.047</td>\n",
       "      <td>-118.067</td>\n",
       "      <td>-118.055</td>\n",
       "      <td>-118.043</td>\n",
       "      <td>...</td>\n",
       "      <td>-118.059</td>\n",
       "      <td>-118.057</td>\n",
       "      <td>-118.057</td>\n",
       "      <td>-118.041</td>\n",
       "      <td>-118.061</td>\n",
       "      <td>-118.07</td>\n",
       "      <td>-118.061</td>\n",
       "      <td>-118.059</td>\n",
       "      <td>-118.058</td>\n",
       "      <td>-118.062</td>\n",
       "    </tr>\n",
       "    <tr>\n",
       "      <th>type</th>\n",
       "      <td>Dropoff</td>\n",
       "      <td>Dropoff</td>\n",
       "      <td>Dropoff</td>\n",
       "      <td>Dropoff</td>\n",
       "      <td>Dropoff</td>\n",
       "      <td>Dropoff</td>\n",
       "      <td>Dropoff</td>\n",
       "      <td>Dropoff</td>\n",
       "      <td>Dropoff</td>\n",
       "      <td>Dropoff</td>\n",
       "      <td>...</td>\n",
       "      <td>Dropoff</td>\n",
       "      <td>Dropoff</td>\n",
       "      <td>Dropoff</td>\n",
       "      <td>Dropoff</td>\n",
       "      <td>Dropoff</td>\n",
       "      <td>Dropoff</td>\n",
       "      <td>Dropoff</td>\n",
       "      <td>Dropoff</td>\n",
       "      <td>Dropoff</td>\n",
       "      <td>Dropoff</td>\n",
       "    </tr>\n",
       "    <tr>\n",
       "      <th>zone_id</th>\n",
       "      <td>B-11.2J</td>\n",
       "      <td>B-12.3G</td>\n",
       "      <td>B-12.1G</td>\n",
       "      <td>B-11.1H</td>\n",
       "      <td>B-11.1G</td>\n",
       "      <td>B-12.3H</td>\n",
       "      <td>B-12.2H</td>\n",
       "      <td>B-11.1G</td>\n",
       "      <td>B-12.3J</td>\n",
       "      <td>B-12.2G</td>\n",
       "      <td>...</td>\n",
       "      <td>B-11.2J</td>\n",
       "      <td>B-12.3J</td>\n",
       "      <td>B-12.3H</td>\n",
       "      <td>B-12.3G</td>\n",
       "      <td>B-11.3J</td>\n",
       "      <td>B-11.1G</td>\n",
       "      <td>B-11.2J</td>\n",
       "      <td>B-11.3J</td>\n",
       "      <td>B-12.2J</td>\n",
       "      <td>B-11.3H</td>\n",
       "    </tr>\n",
       "  </tbody>\n",
       "</table>\n",
       "<p>4 rows × 142 columns</p>\n",
       "</div>"
      ],
      "text/plain": [
       "              AB       AC       AG       AI       AU       AW       AY  \\\n",
       "lat      33.8231  33.8293  33.8299  33.8288  33.8171  33.8237  33.8249   \n",
       "lng     -118.059 -118.044 -118.047 -118.062 -118.065 -118.053 -118.047   \n",
       "type     Dropoff  Dropoff  Dropoff  Dropoff  Dropoff  Dropoff  Dropoff   \n",
       "zone_id  B-11.2J  B-12.3G  B-12.1G  B-11.1H  B-11.1G  B-12.3H  B-12.2H   \n",
       "\n",
       "              BB       BE       BF  ...       XE       XO       XY       XZ  \\\n",
       "lat      33.8156  33.8183  33.8318  ...  33.8237  33.8195  33.8228  33.8289   \n",
       "lng     -118.067 -118.055 -118.043  ... -118.059 -118.057 -118.057 -118.041   \n",
       "type     Dropoff  Dropoff  Dropoff  ...  Dropoff  Dropoff  Dropoff  Dropoff   \n",
       "zone_id  B-11.1G  B-12.3J  B-12.2G  ...  B-11.2J  B-12.3J  B-12.3H  B-12.3G   \n",
       "\n",
       "              YP       YR       YU       YY       ZD       ZN  \n",
       "lat      33.8255  33.8156  33.8225  33.8253   33.819  33.8274  \n",
       "lng     -118.061  -118.07 -118.061 -118.059 -118.058 -118.062  \n",
       "type     Dropoff  Dropoff  Dropoff  Dropoff  Dropoff  Dropoff  \n",
       "zone_id  B-11.3J  B-11.1G  B-11.2J  B-11.3J  B-12.2J  B-11.3H  \n",
       "\n",
       "[4 rows x 142 columns]"
      ]
     },
     "execution_count": 144,
     "metadata": {},
     "output_type": "execute_result"
    }
   ],
   "source": [
    "data=pd.DataFrame.from_dict(df.loc['stops'][3], orient='columns')\n",
    "data.head()"
   ]
  },
  {
   "cell_type": "code",
   "execution_count": 146,
   "metadata": {},
   "outputs": [
    {
     "data": {
      "text/html": [
       "<div>\n",
       "<style scoped>\n",
       "    .dataframe tbody tr th:only-of-type {\n",
       "        vertical-align: middle;\n",
       "    }\n",
       "\n",
       "    .dataframe tbody tr th {\n",
       "        vertical-align: top;\n",
       "    }\n",
       "\n",
       "    .dataframe thead th {\n",
       "        text-align: right;\n",
       "    }\n",
       "</style>\n",
       "<table border=\"1\" class=\"dataframe\">\n",
       "  <thead>\n",
       "    <tr style=\"text-align: right;\">\n",
       "      <th></th>\n",
       "      <th>lat</th>\n",
       "      <th>lng</th>\n",
       "      <th>type</th>\n",
       "      <th>zone_id</th>\n",
       "      <th>zone_id_prefix</th>\n",
       "      <th>zone_id_suffix</th>\n",
       "    </tr>\n",
       "  </thead>\n",
       "  <tbody>\n",
       "    <tr>\n",
       "      <th>AB</th>\n",
       "      <td>33.8231</td>\n",
       "      <td>-118.059</td>\n",
       "      <td>Dropoff</td>\n",
       "      <td>B-11.2J</td>\n",
       "      <td>B-11</td>\n",
       "      <td>2J</td>\n",
       "    </tr>\n",
       "    <tr>\n",
       "      <th>AC</th>\n",
       "      <td>33.8293</td>\n",
       "      <td>-118.044</td>\n",
       "      <td>Dropoff</td>\n",
       "      <td>B-12.3G</td>\n",
       "      <td>B-12</td>\n",
       "      <td>3G</td>\n",
       "    </tr>\n",
       "    <tr>\n",
       "      <th>AG</th>\n",
       "      <td>33.8299</td>\n",
       "      <td>-118.047</td>\n",
       "      <td>Dropoff</td>\n",
       "      <td>B-12.1G</td>\n",
       "      <td>B-12</td>\n",
       "      <td>1G</td>\n",
       "    </tr>\n",
       "    <tr>\n",
       "      <th>AI</th>\n",
       "      <td>33.8288</td>\n",
       "      <td>-118.062</td>\n",
       "      <td>Dropoff</td>\n",
       "      <td>B-11.1H</td>\n",
       "      <td>B-11</td>\n",
       "      <td>1H</td>\n",
       "    </tr>\n",
       "    <tr>\n",
       "      <th>AU</th>\n",
       "      <td>33.8171</td>\n",
       "      <td>-118.065</td>\n",
       "      <td>Dropoff</td>\n",
       "      <td>B-11.1G</td>\n",
       "      <td>B-11</td>\n",
       "      <td>1G</td>\n",
       "    </tr>\n",
       "  </tbody>\n",
       "</table>\n",
       "</div>"
      ],
      "text/plain": [
       "        lat      lng     type  zone_id zone_id_prefix zone_id_suffix\n",
       "AB  33.8231 -118.059  Dropoff  B-11.2J           B-11             2J\n",
       "AC  33.8293 -118.044  Dropoff  B-12.3G           B-12             3G\n",
       "AG  33.8299 -118.047  Dropoff  B-12.1G           B-12             1G\n",
       "AI  33.8288 -118.062  Dropoff  B-11.1H           B-11             1H\n",
       "AU  33.8171 -118.065  Dropoff  B-11.1G           B-11             1G"
      ]
     },
     "execution_count": 146,
     "metadata": {},
     "output_type": "execute_result"
    }
   ],
   "source": [
    "data1=data.T\n",
    "data1=data1.dropna()\n",
    "data1['zone_id_prefix'] = data1['zone_id'].apply(lambda x: x.split('.')[0]) # Extraction du préfixe avant le point\n",
    "data1['zone_id_suffix'] = data1['zone_id'].apply(lambda x: x.split('.')[1]) # Extraction du suffixe après le point\n",
    "data1.head()"
   ]
  },
  {
   "cell_type": "code",
   "execution_count": 148,
   "metadata": {},
   "outputs": [],
   "source": [
    "data1['zone_id_prefix'] = data1['zone_id_prefix'].astype('category')  # Convertir en catégorie\n",
    "#data1['zone_id_prefix'] = data1['zone_id_prefix'].cat.codes  # Encoder en valeurs numériques"
   ]
  },
  {
   "cell_type": "code",
   "execution_count": 149,
   "metadata": {},
   "outputs": [
    {
     "data": {
      "text/html": [
       "<div>\n",
       "<style scoped>\n",
       "    .dataframe tbody tr th:only-of-type {\n",
       "        vertical-align: middle;\n",
       "    }\n",
       "\n",
       "    .dataframe tbody tr th {\n",
       "        vertical-align: top;\n",
       "    }\n",
       "\n",
       "    .dataframe thead th {\n",
       "        text-align: right;\n",
       "    }\n",
       "</style>\n",
       "<table border=\"1\" class=\"dataframe\">\n",
       "  <thead>\n",
       "    <tr style=\"text-align: right;\">\n",
       "      <th></th>\n",
       "      <th>lat</th>\n",
       "      <th>lng</th>\n",
       "      <th>type</th>\n",
       "      <th>zone_id</th>\n",
       "      <th>zone_id_prefix</th>\n",
       "      <th>zone_id_suffix</th>\n",
       "    </tr>\n",
       "  </thead>\n",
       "  <tbody>\n",
       "    <tr>\n",
       "      <th>AB</th>\n",
       "      <td>33.8231</td>\n",
       "      <td>-118.059</td>\n",
       "      <td>Dropoff</td>\n",
       "      <td>B-11.2J</td>\n",
       "      <td>B-11</td>\n",
       "      <td>2J</td>\n",
       "    </tr>\n",
       "    <tr>\n",
       "      <th>AC</th>\n",
       "      <td>33.8293</td>\n",
       "      <td>-118.044</td>\n",
       "      <td>Dropoff</td>\n",
       "      <td>B-12.3G</td>\n",
       "      <td>B-12</td>\n",
       "      <td>3G</td>\n",
       "    </tr>\n",
       "    <tr>\n",
       "      <th>AG</th>\n",
       "      <td>33.8299</td>\n",
       "      <td>-118.047</td>\n",
       "      <td>Dropoff</td>\n",
       "      <td>B-12.1G</td>\n",
       "      <td>B-12</td>\n",
       "      <td>1G</td>\n",
       "    </tr>\n",
       "    <tr>\n",
       "      <th>AI</th>\n",
       "      <td>33.8288</td>\n",
       "      <td>-118.062</td>\n",
       "      <td>Dropoff</td>\n",
       "      <td>B-11.1H</td>\n",
       "      <td>B-11</td>\n",
       "      <td>1H</td>\n",
       "    </tr>\n",
       "    <tr>\n",
       "      <th>AU</th>\n",
       "      <td>33.8171</td>\n",
       "      <td>-118.065</td>\n",
       "      <td>Dropoff</td>\n",
       "      <td>B-11.1G</td>\n",
       "      <td>B-11</td>\n",
       "      <td>1G</td>\n",
       "    </tr>\n",
       "  </tbody>\n",
       "</table>\n",
       "</div>"
      ],
      "text/plain": [
       "        lat      lng     type  zone_id zone_id_prefix zone_id_suffix\n",
       "AB  33.8231 -118.059  Dropoff  B-11.2J           B-11             2J\n",
       "AC  33.8293 -118.044  Dropoff  B-12.3G           B-12             3G\n",
       "AG  33.8299 -118.047  Dropoff  B-12.1G           B-12             1G\n",
       "AI  33.8288 -118.062  Dropoff  B-11.1H           B-11             1H\n",
       "AU  33.8171 -118.065  Dropoff  B-11.1G           B-11             1G"
      ]
     },
     "execution_count": 149,
     "metadata": {},
     "output_type": "execute_result"
    }
   ],
   "source": [
    "data1.head()"
   ]
  },
  {
   "cell_type": "code",
   "execution_count": 150,
   "metadata": {},
   "outputs": [
    {
     "data": {
      "text/plain": [
       "<AxesSubplot:xlabel='lat', ylabel='lng'>"
      ]
     },
     "execution_count": 150,
     "metadata": {},
     "output_type": "execute_result"
    },
    {
     "data": {
      "image/png": "[encoded data removed]",
      "text/plain": [
       "<Figure size 432x288 with 1 Axes>"
      ]
     },
     "metadata": {
      "needs_background": "light"
     },
     "output_type": "display_data"
    }
   ],
   "source": [
    "import seaborn as sns\n",
    "sns.scatterplot(data=data1,x=data1[\"lat\"], y=data1[\"lng\"], hue=data1[\"zone_id_prefix\"])"
   ]
  },
  {
   "cell_type": "code",
   "execution_count": 151,
   "metadata": {},
   "outputs": [
    {
     "data": {
      "text/plain": [
       "B-12    80\n",
       "B-11    61\n",
       "Name: zone_id_prefix, dtype: int64"
      ]
     },
     "execution_count": 151,
     "metadata": {},
     "output_type": "execute_result"
    }
   ],
   "source": [
    "data1['zone_id_prefix'].value_counts()"
   ]
  },
  {
   "cell_type": "markdown",
   "metadata": {
    "tags": []
   },
   "source": [
    "<h2> Clustering avec temps de trajet</h2>"
   ]
  },
  {
   "cell_type": "code",
   "execution_count": 4,
   "metadata": {
    "tags": []
   },
   "outputs": [
    {
     "name": "stdout",
     "output_type": "stream",
     "text": [
      "The JSON file has 2 .\n"
     ]
    }
   ],
   "source": [
    "import json\n",
    "# load the JSON file\n",
    "with open(\"/Users/typh/Documents/ProjetRecherche2023/model_build_inputs/travel_times_solo.json\") as f:\n",
    "    travel= json.load(f)\n",
    "\n",
    "# count the number of keys\n",
    "num_travels = len(travel.keys())\n",
    "\n",
    "print(f\"The JSON file has {num_travels} .\")"
   ]
  },
  {
   "cell_type": "code",
   "execution_count": 5,
   "metadata": {
    "tags": []
   },
   "outputs": [],
   "source": [
    "#Les routes ID dans le fichier\n",
    "#travel.keys()"
   ]
  },
  {
   "cell_type": "code",
   "execution_count": 6,
   "metadata": {
    "tags": []
   },
   "outputs": [],
   "source": [
    "#Les routes ID dans le fichier\n",
    "#route.keys()"
   ]
  },
  {
   "cell_type": "code",
   "execution_count": 7,
   "metadata": {
    "tags": []
   },
   "outputs": [
    {
     "data": {
      "text/html": [
       "<div>\n",
       "<style scoped>\n",
       "    .dataframe tbody tr th:only-of-type {\n",
       "        vertical-align: middle;\n",
       "    }\n",
       "\n",
       "    .dataframe tbody tr th {\n",
       "        vertical-align: top;\n",
       "    }\n",
       "\n",
       "    .dataframe thead th {\n",
       "        text-align: right;\n",
       "    }\n",
       "</style>\n",
       "<table border=\"1\" class=\"dataframe\">\n",
       "  <thead>\n",
       "    <tr style=\"text-align: right;\">\n",
       "      <th></th>\n",
       "      <th>AD</th>\n",
       "      <th>AF</th>\n",
       "      <th>AG</th>\n",
       "      <th>BA</th>\n",
       "      <th>BE</th>\n",
       "      <th>BG</th>\n",
       "      <th>BP</th>\n",
       "      <th>BT</th>\n",
       "      <th>BY</th>\n",
       "      <th>BZ</th>\n",
       "      <th>...</th>\n",
       "      <th>XX</th>\n",
       "      <th>XZ</th>\n",
       "      <th>YB</th>\n",
       "      <th>YK</th>\n",
       "      <th>YM</th>\n",
       "      <th>YX</th>\n",
       "      <th>ZF</th>\n",
       "      <th>ZL</th>\n",
       "      <th>ZS</th>\n",
       "      <th>ZV</th>\n",
       "    </tr>\n",
       "  </thead>\n",
       "  <tbody>\n",
       "    <tr>\n",
       "      <th>RouteID_00143bdd-0a6b-49ec-bb35-36593d303e77</th>\n",
       "      <td>{'AD': 0.0, 'AF': 198.3, 'AG': 264.9, 'BA': 26...</td>\n",
       "      <td>{'AD': 209.8, 'AF': 0.0, 'AG': 348.3, 'BA': 22...</td>\n",
       "      <td>{'AD': 295.7, 'AF': 333.6, 'AG': 0.0, 'BA': 27...</td>\n",
       "      <td>{'AD': 284.0, 'AF': 219.5, 'AG': 288.2, 'BA': ...</td>\n",
       "      <td>{'AD': 107.9, 'AF': 178.9, 'AG': 308.2, 'BA': ...</td>\n",
       "      <td>{'AD': 136.3, 'AF': 90.6, 'AG': 264.2, 'BA': 2...</td>\n",
       "      <td>{'AD': 120.0, 'AF': 267.6, 'AG': 163.7, 'BA': ...</td>\n",
       "      <td>{'AD': 172.7, 'AF': 64.8, 'AG': 317.3, 'BA': 2...</td>\n",
       "      <td>{'AD': 251.3, 'AF': 341.9, 'AG': 82.8, 'BA': 2...</td>\n",
       "      <td>{'AD': 58.8, 'AF': 240.8, 'AG': 279.1, 'BA': 2...</td>\n",
       "      <td>...</td>\n",
       "      <td>NaN</td>\n",
       "      <td>NaN</td>\n",
       "      <td>NaN</td>\n",
       "      <td>NaN</td>\n",
       "      <td>NaN</td>\n",
       "      <td>NaN</td>\n",
       "      <td>NaN</td>\n",
       "      <td>NaN</td>\n",
       "      <td>NaN</td>\n",
       "      <td>NaN</td>\n",
       "    </tr>\n",
       "    <tr>\n",
       "      <th>RouteID_0016bc70-cb8d-48b0-aa55-8ee50bdcdb59</th>\n",
       "      <td>NaN</td>\n",
       "      <td>NaN</td>\n",
       "      <td>{'AC': 426.5, 'AE': 295.1, 'AG': 0.0, 'AN': 12...</td>\n",
       "      <td>{'AC': 321.3, 'AE': 140.3, 'AG': 330.5, 'AN': ...</td>\n",
       "      <td>NaN</td>\n",
       "      <td>NaN</td>\n",
       "      <td>{'AC': 216.7, 'AE': 49.6, 'AG': 377.2, 'AN': 3...</td>\n",
       "      <td>NaN</td>\n",
       "      <td>{'AC': 80.1, 'AE': 102.1, 'AG': 311.7, 'AN': 3...</td>\n",
       "      <td>NaN</td>\n",
       "      <td>...</td>\n",
       "      <td>{'AC': 154.8, 'AE': 110.3, 'AG': 324.1, 'AN': ...</td>\n",
       "      <td>{'AC': 234.9, 'AE': 125.0, 'AG': 184.4, 'AN': ...</td>\n",
       "      <td>{'AC': 409.7, 'AE': 278.3, 'AG': 94.0, 'AN': 4...</td>\n",
       "      <td>{'AC': 141.0, 'AE': 102.6, 'AG': 390.5, 'AN': ...</td>\n",
       "      <td>{'AC': 294.6, 'AE': 182.2, 'AG': 181.6, 'AN': ...</td>\n",
       "      <td>{'AC': 392.3, 'AE': 260.9, 'AG': 80.4, 'AN': 1...</td>\n",
       "      <td>{'AC': 312.7, 'AE': 202.8, 'AG': 170.6, 'AN': ...</td>\n",
       "      <td>{'AC': 312.6, 'AE': 208.4, 'AG': 160.5, 'AN': ...</td>\n",
       "      <td>{'AC': 287.9, 'AE': 178.0, 'AG': 180.1, 'AN': ...</td>\n",
       "      <td>{'AC': 330.5, 'AE': 172.2, 'AG': 207.2, 'AN': ...</td>\n",
       "    </tr>\n",
       "  </tbody>\n",
       "</table>\n",
       "<p>2 rows × 205 columns</p>\n",
       "</div>"
      ],
      "text/plain": [
       "                                                                                             AD  \\\n",
       "RouteID_00143bdd-0a6b-49ec-bb35-36593d303e77  {'AD': 0.0, 'AF': 198.3, 'AG': 264.9, 'BA': 26...   \n",
       "RouteID_0016bc70-cb8d-48b0-aa55-8ee50bdcdb59                                                NaN   \n",
       "\n",
       "                                                                                             AF  \\\n",
       "RouteID_00143bdd-0a6b-49ec-bb35-36593d303e77  {'AD': 209.8, 'AF': 0.0, 'AG': 348.3, 'BA': 22...   \n",
       "RouteID_0016bc70-cb8d-48b0-aa55-8ee50bdcdb59                                                NaN   \n",
       "\n",
       "                                                                                             AG  \\\n",
       "RouteID_00143bdd-0a6b-49ec-bb35-36593d303e77  {'AD': 295.7, 'AF': 333.6, 'AG': 0.0, 'BA': 27...   \n",
       "RouteID_0016bc70-cb8d-48b0-aa55-8ee50bdcdb59  {'AC': 426.5, 'AE': 295.1, 'AG': 0.0, 'AN': 12...   \n",
       "\n",
       "                                                                                             BA  \\\n",
       "RouteID_00143bdd-0a6b-49ec-bb35-36593d303e77  {'AD': 284.0, 'AF': 219.5, 'AG': 288.2, 'BA': ...   \n",
       "RouteID_0016bc70-cb8d-48b0-aa55-8ee50bdcdb59  {'AC': 321.3, 'AE': 140.3, 'AG': 330.5, 'AN': ...   \n",
       "\n",
       "                                                                                             BE  \\\n",
       "RouteID_00143bdd-0a6b-49ec-bb35-36593d303e77  {'AD': 107.9, 'AF': 178.9, 'AG': 308.2, 'BA': ...   \n",
       "RouteID_0016bc70-cb8d-48b0-aa55-8ee50bdcdb59                                                NaN   \n",
       "\n",
       "                                                                                             BG  \\\n",
       "RouteID_00143bdd-0a6b-49ec-bb35-36593d303e77  {'AD': 136.3, 'AF': 90.6, 'AG': 264.2, 'BA': 2...   \n",
       "RouteID_0016bc70-cb8d-48b0-aa55-8ee50bdcdb59                                                NaN   \n",
       "\n",
       "                                                                                             BP  \\\n",
       "RouteID_00143bdd-0a6b-49ec-bb35-36593d303e77  {'AD': 120.0, 'AF': 267.6, 'AG': 163.7, 'BA': ...   \n",
       "RouteID_0016bc70-cb8d-48b0-aa55-8ee50bdcdb59  {'AC': 216.7, 'AE': 49.6, 'AG': 377.2, 'AN': 3...   \n",
       "\n",
       "                                                                                             BT  \\\n",
       "RouteID_00143bdd-0a6b-49ec-bb35-36593d303e77  {'AD': 172.7, 'AF': 64.8, 'AG': 317.3, 'BA': 2...   \n",
       "RouteID_0016bc70-cb8d-48b0-aa55-8ee50bdcdb59                                                NaN   \n",
       "\n",
       "                                                                                             BY  \\\n",
       "RouteID_00143bdd-0a6b-49ec-bb35-36593d303e77  {'AD': 251.3, 'AF': 341.9, 'AG': 82.8, 'BA': 2...   \n",
       "RouteID_0016bc70-cb8d-48b0-aa55-8ee50bdcdb59  {'AC': 80.1, 'AE': 102.1, 'AG': 311.7, 'AN': 3...   \n",
       "\n",
       "                                                                                             BZ  \\\n",
       "RouteID_00143bdd-0a6b-49ec-bb35-36593d303e77  {'AD': 58.8, 'AF': 240.8, 'AG': 279.1, 'BA': 2...   \n",
       "RouteID_0016bc70-cb8d-48b0-aa55-8ee50bdcdb59                                                NaN   \n",
       "\n",
       "                                              ...  \\\n",
       "RouteID_00143bdd-0a6b-49ec-bb35-36593d303e77  ...   \n",
       "RouteID_0016bc70-cb8d-48b0-aa55-8ee50bdcdb59  ...   \n",
       "\n",
       "                                                                                             XX  \\\n",
       "RouteID_00143bdd-0a6b-49ec-bb35-36593d303e77                                                NaN   \n",
       "RouteID_0016bc70-cb8d-48b0-aa55-8ee50bdcdb59  {'AC': 154.8, 'AE': 110.3, 'AG': 324.1, 'AN': ...   \n",
       "\n",
       "                                                                                             XZ  \\\n",
       "RouteID_00143bdd-0a6b-49ec-bb35-36593d303e77                                                NaN   \n",
       "RouteID_0016bc70-cb8d-48b0-aa55-8ee50bdcdb59  {'AC': 234.9, 'AE': 125.0, 'AG': 184.4, 'AN': ...   \n",
       "\n",
       "                                                                                             YB  \\\n",
       "RouteID_00143bdd-0a6b-49ec-bb35-36593d303e77                                                NaN   \n",
       "RouteID_0016bc70-cb8d-48b0-aa55-8ee50bdcdb59  {'AC': 409.7, 'AE': 278.3, 'AG': 94.0, 'AN': 4...   \n",
       "\n",
       "                                                                                             YK  \\\n",
       "RouteID_00143bdd-0a6b-49ec-bb35-36593d303e77                                                NaN   \n",
       "RouteID_0016bc70-cb8d-48b0-aa55-8ee50bdcdb59  {'AC': 141.0, 'AE': 102.6, 'AG': 390.5, 'AN': ...   \n",
       "\n",
       "                                                                                             YM  \\\n",
       "RouteID_00143bdd-0a6b-49ec-bb35-36593d303e77                                                NaN   \n",
       "RouteID_0016bc70-cb8d-48b0-aa55-8ee50bdcdb59  {'AC': 294.6, 'AE': 182.2, 'AG': 181.6, 'AN': ...   \n",
       "\n",
       "                                                                                             YX  \\\n",
       "RouteID_00143bdd-0a6b-49ec-bb35-36593d303e77                                                NaN   \n",
       "RouteID_0016bc70-cb8d-48b0-aa55-8ee50bdcdb59  {'AC': 392.3, 'AE': 260.9, 'AG': 80.4, 'AN': 1...   \n",
       "\n",
       "                                                                                             ZF  \\\n",
       "RouteID_00143bdd-0a6b-49ec-bb35-36593d303e77                                                NaN   \n",
       "RouteID_0016bc70-cb8d-48b0-aa55-8ee50bdcdb59  {'AC': 312.7, 'AE': 202.8, 'AG': 170.6, 'AN': ...   \n",
       "\n",
       "                                                                                             ZL  \\\n",
       "RouteID_00143bdd-0a6b-49ec-bb35-36593d303e77                                                NaN   \n",
       "RouteID_0016bc70-cb8d-48b0-aa55-8ee50bdcdb59  {'AC': 312.6, 'AE': 208.4, 'AG': 160.5, 'AN': ...   \n",
       "\n",
       "                                                                                             ZS  \\\n",
       "RouteID_00143bdd-0a6b-49ec-bb35-36593d303e77                                                NaN   \n",
       "RouteID_0016bc70-cb8d-48b0-aa55-8ee50bdcdb59  {'AC': 287.9, 'AE': 178.0, 'AG': 180.1, 'AN': ...   \n",
       "\n",
       "                                                                                             ZV  \n",
       "RouteID_00143bdd-0a6b-49ec-bb35-36593d303e77                                                NaN  \n",
       "RouteID_0016bc70-cb8d-48b0-aa55-8ee50bdcdb59  {'AC': 330.5, 'AE': 172.2, 'AG': 207.2, 'AN': ...  \n",
       "\n",
       "[2 rows x 205 columns]"
      ]
     },
     "execution_count": 7,
     "metadata": {},
     "output_type": "execute_result"
    }
   ],
   "source": [
    "import pandas as pd\n",
    "dt=pd.DataFrame(travel)\n",
    "dt1=dt.T\n",
    "dt1.head()"
   ]
  },
  {
   "cell_type": "code",
   "execution_count": 237,
   "metadata": {
    "tags": []
   },
   "outputs": [
    {
     "data": {
      "text/plain": [
       "40.4"
      ]
     },
     "execution_count": 237,
     "metadata": {},
     "output_type": "execute_result"
    }
   ],
   "source": [
    "#nombre = indice de la route\n",
    "dt2=pd.DataFrame(dt1.iloc[0].to_dict()).dropna(axis=1)\n",
    "dt2['CK']['KU']\n"
   ]
  },
  {
   "cell_type": "code",
   "execution_count": 9,
   "metadata": {
    "tags": []
   },
   "outputs": [
    {
     "data": {
      "text/html": [
       "<div>\n",
       "<style scoped>\n",
       "    .dataframe tbody tr th:only-of-type {\n",
       "        vertical-align: middle;\n",
       "    }\n",
       "\n",
       "    .dataframe tbody tr th {\n",
       "        vertical-align: top;\n",
       "    }\n",
       "\n",
       "    .dataframe thead th {\n",
       "        text-align: right;\n",
       "    }\n",
       "</style>\n",
       "<table border=\"1\" class=\"dataframe\">\n",
       "  <thead>\n",
       "    <tr style=\"text-align: right;\">\n",
       "      <th></th>\n",
       "      <th>lat</th>\n",
       "      <th>lng</th>\n",
       "      <th>type</th>\n",
       "      <th>zone_id</th>\n",
       "    </tr>\n",
       "  </thead>\n",
       "  <tbody>\n",
       "    <tr>\n",
       "      <th>AD</th>\n",
       "      <td>34.099611</td>\n",
       "      <td>-118.283062</td>\n",
       "      <td>Dropoff</td>\n",
       "      <td>P-12.3C</td>\n",
       "    </tr>\n",
       "    <tr>\n",
       "      <th>AF</th>\n",
       "      <td>34.101587</td>\n",
       "      <td>-118.291125</td>\n",
       "      <td>Dropoff</td>\n",
       "      <td>A-1.2D</td>\n",
       "    </tr>\n",
       "    <tr>\n",
       "      <th>AG</th>\n",
       "      <td>34.089727</td>\n",
       "      <td>-118.28553</td>\n",
       "      <td>Dropoff</td>\n",
       "      <td>A-2.1A</td>\n",
       "    </tr>\n",
       "    <tr>\n",
       "      <th>BA</th>\n",
       "      <td>34.096132</td>\n",
       "      <td>-118.292869</td>\n",
       "      <td>Dropoff</td>\n",
       "      <td>A-1.2C</td>\n",
       "    </tr>\n",
       "    <tr>\n",
       "      <th>BE</th>\n",
       "      <td>34.098482</td>\n",
       "      <td>-118.286243</td>\n",
       "      <td>Dropoff</td>\n",
       "      <td>P-13.3B</td>\n",
       "    </tr>\n",
       "  </tbody>\n",
       "</table>\n",
       "</div>"
      ],
      "text/plain": [
       "          lat         lng     type  zone_id\n",
       "AD  34.099611 -118.283062  Dropoff  P-12.3C\n",
       "AF  34.101587 -118.291125  Dropoff   A-1.2D\n",
       "AG  34.089727  -118.28553  Dropoff   A-2.1A\n",
       "BA  34.096132 -118.292869  Dropoff   A-1.2C\n",
       "BE  34.098482 -118.286243  Dropoff  P-13.3B"
      ]
     },
     "execution_count": 9,
     "metadata": {},
     "output_type": "execute_result"
    }
   ],
   "source": [
    "import pandas as pd\n",
    "# Convertir le dictionnaire en dataframe\n",
    "df = pd.DataFrame(route)\n",
    "df2=pd.DataFrame.from_dict(df.loc['stops'][0],orient='columns')\n",
    "df2=df2.T\n",
    "df2.head()"
   ]
  },
  {
   "cell_type": "code",
   "execution_count": 10,
   "metadata": {
    "tags": []
   },
   "outputs": [],
   "source": [
    "#df2=df2.dropna()\n",
    "#dt2=dt2.dropna()"
   ]
  },
  {
   "cell_type": "code",
   "execution_count": 11,
   "metadata": {
    "tags": []
   },
   "outputs": [
    {
     "data": {
      "text/plain": [
       "(119, 4)"
      ]
     },
     "execution_count": 11,
     "metadata": {},
     "output_type": "execute_result"
    }
   ],
   "source": [
    "df2.shape"
   ]
  },
  {
   "cell_type": "code",
   "execution_count": 12,
   "metadata": {
    "tags": []
   },
   "outputs": [
    {
     "data": {
      "text/plain": [
       "(119, 119)"
      ]
     },
     "execution_count": 12,
     "metadata": {},
     "output_type": "execute_result"
    }
   ],
   "source": [
    "dt2.shape"
   ]
  },
  {
   "cell_type": "code",
   "execution_count": 13,
   "metadata": {
    "tags": []
   },
   "outputs": [
    {
     "data": {
      "text/plain": [
       "11"
      ]
     },
     "execution_count": 13,
     "metadata": {},
     "output_type": "execute_result"
    }
   ],
   "source": [
    "#On compte le nombre de stops dans une route \n",
    "number_stops = len(dt2)\n",
    "\n",
    "#On choisit ici max 10 stops dans chaque cluster, on veut donc le nombre max de clusters : (considérer qu'à chaque fois il y aura un peu plus)\n",
    "number_cluster = number_stops//10\n",
    "number_cluster"
   ]
  },
  {
   "cell_type": "code",
   "execution_count": 112,
   "metadata": {
    "tags": []
   },
   "outputs": [
    {
     "name": "stderr",
     "output_type": "stream",
     "text": [
      "/usr/local/lib/python3.10/site-packages/sklearn/cluster/_kmeans.py:870: FutureWarning: The default value of `n_init` will change from 10 to 'auto' in 1.4. Set the value of `n_init` explicitly to suppress the warning\n",
      "  warnings.warn(\n"
     ]
    },
    {
     "data": {
      "text/html": [
       "<div>\n",
       "<style scoped>\n",
       "    .dataframe tbody tr th:only-of-type {\n",
       "        vertical-align: middle;\n",
       "    }\n",
       "\n",
       "    .dataframe tbody tr th {\n",
       "        vertical-align: top;\n",
       "    }\n",
       "\n",
       "    .dataframe thead th {\n",
       "        text-align: right;\n",
       "    }\n",
       "</style>\n",
       "<table border=\"1\" class=\"dataframe\">\n",
       "  <thead>\n",
       "    <tr style=\"text-align: right;\">\n",
       "      <th></th>\n",
       "      <th>lat</th>\n",
       "      <th>lng</th>\n",
       "      <th>type</th>\n",
       "      <th>zone_id</th>\n",
       "      <th>Cluster</th>\n",
       "    </tr>\n",
       "  </thead>\n",
       "  <tbody>\n",
       "    <tr>\n",
       "      <th>AD</th>\n",
       "      <td>34.099611</td>\n",
       "      <td>-118.283062</td>\n",
       "      <td>Dropoff</td>\n",
       "      <td>P-12.3C</td>\n",
       "      <td>7</td>\n",
       "    </tr>\n",
       "    <tr>\n",
       "      <th>AF</th>\n",
       "      <td>34.101587</td>\n",
       "      <td>-118.291125</td>\n",
       "      <td>Dropoff</td>\n",
       "      <td>A-1.2D</td>\n",
       "      <td>2</td>\n",
       "    </tr>\n",
       "    <tr>\n",
       "      <th>AG</th>\n",
       "      <td>34.089727</td>\n",
       "      <td>-118.28553</td>\n",
       "      <td>Dropoff</td>\n",
       "      <td>A-2.1A</td>\n",
       "      <td>4</td>\n",
       "    </tr>\n",
       "    <tr>\n",
       "      <th>BA</th>\n",
       "      <td>34.096132</td>\n",
       "      <td>-118.292869</td>\n",
       "      <td>Dropoff</td>\n",
       "      <td>A-1.2C</td>\n",
       "      <td>2</td>\n",
       "    </tr>\n",
       "    <tr>\n",
       "      <th>BE</th>\n",
       "      <td>34.098482</td>\n",
       "      <td>-118.286243</td>\n",
       "      <td>Dropoff</td>\n",
       "      <td>P-13.3B</td>\n",
       "      <td>5</td>\n",
       "    </tr>\n",
       "  </tbody>\n",
       "</table>\n",
       "</div>"
      ],
      "text/plain": [
       "          lat         lng     type  zone_id  Cluster\n",
       "AD  34.099611 -118.283062  Dropoff  P-12.3C        7\n",
       "AF  34.101587 -118.291125  Dropoff   A-1.2D        2\n",
       "AG  34.089727  -118.28553  Dropoff   A-2.1A        4\n",
       "BA  34.096132 -118.292869  Dropoff   A-1.2C        2\n",
       "BE  34.098482 -118.286243  Dropoff  P-13.3B        5"
      ]
     },
     "execution_count": 112,
     "metadata": {},
     "output_type": "execute_result"
    }
   ],
   "source": [
    "from sklearn.cluster import KMeans\n",
    "\n",
    "kmeans = KMeans(n_clusters=number_cluster)\n",
    "kmeans.fit(dt2)\n",
    "df2[\"Cluster\"]=kmeans.labels_\n",
    "df2.head()"
   ]
  },
  {
   "cell_type": "code",
   "execution_count": 15,
   "metadata": {
    "tags": []
   },
   "outputs": [
    {
     "data": {
      "text/plain": [
       "4     18\n",
       "5     18\n",
       "2     15\n",
       "0     14\n",
       "7     12\n",
       "9     11\n",
       "6      9\n",
       "10     9\n",
       "3      7\n",
       "8      5\n",
       "1      1\n",
       "Name: Cluster, dtype: int64"
      ]
     },
     "execution_count": 15,
     "metadata": {},
     "output_type": "execute_result"
    }
   ],
   "source": [
    "df2['Cluster'].value_counts()"
   ]
  },
  {
   "cell_type": "code",
   "execution_count": 16,
   "metadata": {
    "tags": []
   },
   "outputs": [
    {
     "name": "stdout",
     "output_type": "stream",
     "text": [
      "[ 262.91428571 1910.           50.88666667  355.85714286  135.45\n",
      "  173.53333333  246.56666667  210.9         242.6         163.82727273\n",
      "   95.91111111]\n",
      "[ 348.07857143 1998.8         237.94        298.62857143  122.28888889\n",
      "  324.72777778  179.83333333  265.075       437.52        367.30909091\n",
      "  232.86666667]\n"
     ]
    }
   ],
   "source": [
    "centers=kmeans.cluster_centers_\n",
    "print(centers[:, 0])\n",
    "print(centers[:, 1])"
   ]
  },
  {
   "cell_type": "code",
   "execution_count": 18,
   "metadata": {
    "tags": []
   },
   "outputs": [
    {
     "data": {
      "image/png": "[encoded data removed]",
      "text/plain": [
       "<Figure size 640x480 with 1 Axes>"
      ]
     },
     "metadata": {},
     "output_type": "display_data"
    }
   ],
   "source": [
    "import matplotlib.pyplot as plt\n",
    "\n",
    "plt.scatter(centers[:, 0], centers[:, 1], c='black', s=20, alpha=0.5);"
   ]
  },
  {
   "cell_type": "code",
   "execution_count": 19,
   "metadata": {
    "tags": []
   },
   "outputs": [
    {
     "data": {
      "image/png": "[encoded data removed]",
      "text/plain": [
       "<Figure size 640x480 with 1 Axes>"
      ]
     },
     "metadata": {},
     "output_type": "display_data"
    }
   ],
   "source": [
    "import seaborn as sns\n",
    "import matplotlib.pyplot as plt\n",
    "sns.scatterplot(data=df2,x=df2[\"lat\"], y=df2[\"lng\"], hue=df2[\"Cluster\"])\n",
    "plt.show()"
   ]
  },
  {
   "cell_type": "code",
   "execution_count": 20,
   "metadata": {
    "tags": []
   },
   "outputs": [
    {
     "data": {
      "image/png": "[encoded data removed]",
      "text/plain": [
       "<Figure size 640x480 with 1 Axes>"
      ]
     },
     "metadata": {},
     "output_type": "display_data"
    }
   ],
   "source": [
    "import seaborn as sns\n",
    "import matplotlib.pyplot as plt\n",
    "sns.scatterplot(data=df2,x=df2[\"lat\"], y=df2[\"lng\"], hue=df2[\"zone_id\"])\n",
    "plt.show()"
   ]
  },
  {
   "cell_type": "markdown",
   "metadata": {},
   "source": [
    "<h2> Chercher les a et b </h2>"
   ]
  },
  {
   "cell_type": "code",
   "execution_count": 22,
   "metadata": {
    "tags": []
   },
   "outputs": [],
   "source": [
    "with open('/Users/typh/Documents/ProjetRecherche2023/model_build_inputs/package_data_solo.json') as f:\n",
    "    pack = json.load(f)\n",
    "#{\"RouteID_00143bdd-0a6b-49ec-bb35-36593d303e77\": {\"AD\": {\"PackageID_9d7fdd03-f2cf-4c6f-9128-028258fc09ea\": {\"scan_status\": \"DELIVERED\", \"time_window\": {\"start_time_utc\": NaN, \"end_time_utc\": NaN}, \"planned_service_time_seconds\": 59.3, \"dimensions\": {\"depth_cm\": 25.4, \"height_cm\": 7.6, \"width_cm\": 17.8}},\n"
   ]
  },
  {
   "cell_type": "code",
   "execution_count": 23,
   "metadata": {
    "tags": []
   },
   "outputs": [],
   "source": [
    "#for i in pack.keys():\n",
    "    #start_time = \"00:00:00\"\n",
    "    #end_time = \"23:59:59\"\n",
    "    #stops = pack[i][0]\n",
    "    #for j in stops.keys():\n",
    "        #package = stops[j][0]\n",
    "        #print('ok')\n",
    "        #for k in package.keys():"
   ]
  },
  {
   "cell_type": "code",
   "execution_count": 24,
   "metadata": {
    "tags": []
   },
   "outputs": [
    {
     "name": "stdout",
     "output_type": "stream",
     "text": [
      "{'scan_status': 'DELIVERED', 'time_window': {'start_time_utc': nan, 'end_time_utc': nan}, 'planned_service_time_seconds': 59.3, 'dimensions': {'depth_cm': 25.4, 'height_cm': 7.6, 'width_cm': 17.8}}\n"
     ]
    },
    {
     "data": {
      "text/plain": [
       "{'start_time_utc': nan, 'end_time_utc': nan}"
      ]
     },
     "execution_count": 24,
     "metadata": {},
     "output_type": "execute_result"
    }
   ],
   "source": [
    "keyp = list(pack.keys())\n",
    "stops = list(pack[keyp[0]])\n",
    "package = list(pack[keyp[0]][stops[0]])\n",
    "#print(stops)\n",
    "#print(pack[keyp[0]][stops[0]])\n",
    "#print(package[0])\n",
    "print(pack[keyp[0]][stops[0]][package[0]])\n",
    "pack[keyp[0]][stops[0]][package[0]]['time_window']"
   ]
  },
  {
   "cell_type": "code",
   "execution_count": 25,
   "metadata": {
    "tags": []
   },
   "outputs": [
    {
     "name": "stdout",
     "output_type": "stream",
     "text": [
      "['RouteID_00143bdd-0a6b-49ec-bb35-36593d303e77', 'RouteID_0016bc70-cb8d-48b0-aa55-8ee50bdcdb59']\n"
     ]
    }
   ],
   "source": [
    "keyp = list(pack.keys())\n",
    "#keyp[1]\n",
    "#for stops in keyp[0]\n",
    "#for i in range (len(pack.keys())):\n",
    "    #stops = list(pack[keyp[i]])\n",
    "    #for j in range (len(stops)):\n",
    "        #package = list(pack[keyp[i]][stops[j]])\n",
    "        #for k in range (len(package)):\n",
    "            #pack[keyp[0]][stops[0]][package[0]]['time_window']\n",
    "\n",
    "print(keyp[0:10])"
   ]
  },
  {
   "cell_type": "code",
   "execution_count": 26,
   "metadata": {
    "tags": []
   },
   "outputs": [],
   "source": [
    "import re"
   ]
  },
  {
   "cell_type": "code",
   "execution_count": 29,
   "metadata": {
    "tags": []
   },
   "outputs": [],
   "source": [
    "keyp = list(pack.keys())\n",
    "def time_a_b_route_1(num_route):\n",
    "    stops = list(pack[keyp[num_route]])\n",
    "    print(len(stops))\n",
    "    stop_time=[]\n",
    "    a=[]\n",
    "    b=[]\n",
    "    day=[]\n",
    "    for j in range (len(stops)):\n",
    "        a_min_stops = 'NaN'\n",
    "        b_max_stops = 'NaN'\n",
    "        package = list(pack[keyp[num_route]][stops[j]])\n",
    "        #print(package)\n",
    "        for k in range (len(package)):\n",
    "            time_window=pack[keyp[num_route]][stops[j]][package[k]]['time_window']\n",
    "            #print(time_window)\n",
    "            time_interval=list(time_window.values())\n",
    "            #print(time_interval)\n",
    "            stop_time.extend(time_interval)\n",
    "            #print(stop_time)\n",
    "        dates_valides = [date for date in stop_time if isinstance(date, str)]\n",
    "        \n",
    "        #si on a une date valide\n",
    "        if dates_valides:\n",
    "            date_min = min(dates_valides)\n",
    "            date_max = max(dates_valides)\n",
    "            day=date_min[0:10]\n",
    "            \n",
    "            if (date_min[8:10] != date_max[8:10]): \n",
    "                #si dates sur 2 jours : on aura les dates max de la forme '2018-02-26 25:00:00' à la place de '2018-02-27 01:00:00'\n",
    "                date_max = date_min[0:10] + date_max[10:]\n",
    "                date_max = date_max[:11] + str(int(date_max[11:13])+24) + date_max[13:]\n",
    "                \n",
    "                #somme des minutes \n",
    "                sum_min = int(date_min[14:16]) + int(date_max[14:16])\n",
    "                \n",
    "                #on ajoute les minutes : si la somme des minutes est >=1h : on ajoute fait un super calculer avec une retenue lol\n",
    "                if (sum_min >59) :\n",
    "                    date_max = date_max[:11] + str(int(date_max[11:13])+1) + date_max[13] + str(sum_min-60) + date_max[16:]\n",
    "                else :\n",
    "                    date_max = date_max[:14] + str(sum_min) + date_max[16:]\n",
    "                            \n",
    "            a.append(date_min)\n",
    "            b.append(date_max)\n",
    "            \n",
    "            if (a_min_stops == 'NaN') :\n",
    "                a_min_stops = date_min\n",
    "                b_max_stops = date_max\n",
    "                \n",
    "            elif (int(a_min_stops[11:13]) > int(date_min[11:13])):\n",
    "                a_min_stops = date_min\n",
    "                \n",
    "            elif (int(b_max_stops[11:13]) > int(date_max[11:13])):\n",
    "                b_max_stops = date_max\n",
    "                \n",
    "            else:\n",
    "                print('ok')\n",
    "            \n",
    "        #si on a un NaN\n",
    "        else :\n",
    "            a.append('NaN')\n",
    "            b.append('NaN')\n",
    "            \n",
    "            \n",
    "        #on remplace les NaN par ce qu'il faut\n",
    "        if (j==len(stops)-1):\n",
    "            str_a = ','.join(a)\n",
    "            str_b = ','.join(b)\n",
    "            \n",
    "            if (a_min_stops != 'NaN'):\n",
    "                str_a=re.sub('NaN', a_min_stops, str_a)\n",
    "                str_b=re.sub('NaN', b_max_stops, str_b)\n",
    "                \n",
    "            else :\n",
    "                str_a=re.sub('NaN', day + ' 00:00:00', str_a)\n",
    "                str_b=re.sub('NaN', day + ' 47:59:59', str_b)\n",
    "            \n",
    "            a = str_a.split(sep=',')\n",
    "            b = str_b.split(sep=',')\n",
    "            \n",
    "    return b"
   ]
  },
  {
   "cell_type": "code",
   "execution_count": 31,
   "metadata": {
    "tags": []
   },
   "outputs": [],
   "source": [
    "#time_a_b_route_1(1)"
   ]
  },
  {
   "cell_type": "markdown",
   "metadata": {},
   "source": [
    "<h2> Trajet entre les clusters </h2>"
   ]
  },
  {
   "cell_type": "code",
   "execution_count": 33,
   "metadata": {
    "tags": []
   },
   "outputs": [
    {
     "data": {
      "image/png": "[encoded data removed]",
      "text/plain": [
       "<Figure size 640x480 with 1 Axes>"
      ]
     },
     "metadata": {},
     "output_type": "display_data"
    }
   ],
   "source": [
    "# on calcule la distance entre les centres des clusters \n",
    "\n",
    "import matplotlib.pyplot as plt\n",
    "\n",
    "#affichage des centres des clusters de la route avant\n",
    "plt.scatter(centers[:, 0], centers[:, 1], c='black', s=20, alpha=0.5);"
   ]
  },
  {
   "cell_type": "code",
   "execution_count": 53,
   "metadata": {
    "tags": []
   },
   "outputs": [],
   "source": [
    "from math import * \n",
    "\n",
    "def distances_sommets(centers):\n",
    "    centers_0=centers[:,0]\n",
    "    centers_1=centers[:,1]\n",
    "    \n",
    "    #print(centers_0[1])\n",
    "    \n",
    "    #on calcule la distance de chaque sommet envers tous les autres -> on pourra trouver le v0 excentré\n",
    "    \n",
    "    number_cluster = len(centers_0)\n",
    "    \n",
    "    dist=[]\n",
    "    \n",
    "    for i in range(number_cluster):\n",
    "        dist_i=[]\n",
    "        for j in range(number_cluster):\n",
    "            x_j=centers_0[j]\n",
    "            x_i=centers_0[i]\n",
    "            y_j=centers_1[j]\n",
    "            y_i=centers_1[i]\n",
    "            dist_i.append(sqrt((x_j - x_i)**2 + (y_j - y_i)**2))\n",
    "        dist.append(dist_i)\n",
    "        \n",
    "    return dist"
   ]
  },
  {
   "cell_type": "code",
   "execution_count": 55,
   "metadata": {
    "tags": []
   },
   "outputs": [],
   "source": [
    "#distances_sommets(centers)"
   ]
  },
  {
   "cell_type": "code",
   "execution_count": 109,
   "metadata": {
    "tags": []
   },
   "outputs": [],
   "source": [
    "#on trouve le point le plus eloigné qui est v0\n",
    "def find_v0(centers):\n",
    "    dist=distances_sommets(centers)\n",
    "    \n",
    "    maxi = 0\n",
    "    v0=0\n",
    "\n",
    "    sums=[0 for i in range(len(centers[:,0]))]\n",
    "    \n",
    "    for i in range(len(centers[:,0])):\n",
    "        #on vérifie que l'on ne prend pas le sommet le plus éloigné en comparaison\n",
    "        for j in range(len(centers[:,0])):\n",
    "            sums[j]=sums[j]+dist[j][i]\n",
    "          \n",
    "    sommet_comparant=sums.index(min(sums))\n",
    "          \n",
    "    for i in range(len(centers[:,0])):      \n",
    "        if centers[sommet_comparant][i]>maxi:\n",
    "            maxi=centers[sommet_comparant][i]\n",
    "            v0=i\n",
    "          \n",
    "    return v0"
   ]
  },
  {
   "cell_type": "code",
   "execution_count": 110,
   "metadata": {
    "tags": []
   },
   "outputs": [
    {
     "name": "stdout",
     "output_type": "stream",
     "text": [
      "7\n"
     ]
    },
    {
     "data": {
      "text/plain": [
       "1"
      ]
     },
     "execution_count": 110,
     "metadata": {},
     "output_type": "execute_result"
    }
   ],
   "source": [
    "find_v0(centers)"
   ]
  },
  {
   "cell_type": "code",
   "execution_count": 98,
   "metadata": {
    "tags": []
   },
   "outputs": [],
   "source": [
    "#on crée l'ordre de parcours des clusters\n",
    "def ordre_parcours_cluster(centers):\n",
    "    dist=distances_sommets(centers)\n",
    "    v0=find_v0(centers)\n",
    "    \n",
    "    #liste des clusters pour ne pas mettre le même 2 fois)\n",
    "    list_centers = [i for i in range(len(centers[:,0]))]\n",
    "    list_centers.remove(v0)\n",
    "        \n",
    "    #liste de l'ordre parcouru\n",
    "    list_parcours = [v0]\n",
    "    \n",
    "    for i in range(len(centers[:,0])):\n",
    "        dist[i][v0]=100000.0\n",
    "        \n",
    "    for i in range(len(centers[:,0])-1):\n",
    "        #print(list_parcours[-1])\n",
    "        dist_last_sommet = dist[list_parcours[-1]]\n",
    "        #print(dist_last_sommet)\n",
    "        next_sommet=dist_last_sommet.index(min(dist_last_sommet))\n",
    "        #print(next_sommet)\n",
    "        \n",
    "        #condition qui ne nous fera pas passer plusieurs fois par le même sommet\n",
    "        for j in range(len(centers[:,0])):\n",
    "            dist[j][next_sommet]=100000.0\n",
    "            \n",
    "        list_parcours.append(next_sommet)\n",
    "        #list_centers.remove(next_sommet)\n",
    "\n",
    "        \n",
    "    return list_parcours"
   ]
  },
  {
   "cell_type": "code",
   "execution_count": 124,
   "metadata": {
    "tags": []
   },
   "outputs": [
    {
     "name": "stdout",
     "output_type": "stream",
     "text": [
      "7\n"
     ]
    },
    {
     "data": {
      "text/plain": [
       "[1, 8, 0, 5, 9, 7, 6, 4, 10, 2, 3]"
      ]
     },
     "execution_count": 124,
     "metadata": {},
     "output_type": "execute_result"
    }
   ],
   "source": [
    "order_clusters=ordre_parcours_cluster(centers)\n",
    "order_clusters"
   ]
  },
  {
   "cell_type": "markdown",
   "metadata": {},
   "source": [
    "<h2>Premier et dernier d'un cluster</h2>"
   ]
  },
  {
   "cell_type": "code",
   "execution_count": 271,
   "metadata": {
    "tags": []
   },
   "outputs": [
    {
     "name": "stdout",
     "output_type": "stream",
     "text": [
      "['BP' 'EO' 'GS' 'IA' 'KU' 'MA' 'NU' 'PT' 'YE' 'ZU']\n",
      "['VE']\n",
      "['AF' 'BA' 'CP' 'DN' 'DQ' 'HN' 'KA' 'KJ' 'LD' 'NE' 'YH']\n",
      "['CM' 'HB' 'JM' 'SI' 'SQ' 'TQ' 'XD' 'ZP']\n",
      "['AG' 'FY' 'GB' 'GP' 'GW' 'HO' 'HT' 'NM' 'PJ' 'QM' 'RY' 'TG' 'WS' 'YR']\n",
      "['BE' 'BG' 'BT' 'CA' 'CO' 'GN' 'HR' 'KG' 'KM' 'MW' 'PB' 'PX' 'QX' 'TC'\n",
      " 'UI' 'UJ' 'YY']\n",
      "['CG' 'DJ' 'LG' 'NL' 'UR' 'VA' 'ZE']\n",
      "['AD' 'BZ' 'EC' 'EH' 'EX' 'QO' 'RG' 'SD' 'TY' 'UN' 'UU' 'VC' 'WJ' 'YJ'\n",
      " 'ZB']\n",
      "['CK' 'EY' 'FF' 'HG' 'HW' 'IM' 'IP' 'LY' 'MO' 'PS' 'QE' 'YN']\n",
      "['GU' 'IJ' 'IW' 'KN' 'KP' 'MR' 'SC' 'TH' 'UW' 'XB']\n",
      "['BY' 'CW' 'DL' 'FH' 'JH' 'LB' 'LK' 'MQ' 'NR' 'RA' 'SF' 'TK' 'US' 'VW']\n"
     ]
    }
   ],
   "source": [
    "#listes des sommets contenus dans chaque cluster\n",
    "\n",
    "list_clusters=[]\n",
    "\n",
    "for i in range(number_cluster):\n",
    "    list_clusters.append(df2[df2['Cluster']==i].index.values)\n",
    "    print(df2[df2['Cluster']==i].index.values)\n",
    "    "
   ]
  },
  {
   "cell_type": "code",
   "execution_count": 272,
   "metadata": {
    "tags": []
   },
   "outputs": [],
   "source": [
    "def first_and_last_in_cluster(l, order):\n",
    "    \n",
    "    list_clusters=[]\n",
    "\n",
    "    for i in range(number_cluster):\n",
    "        list_clusters.append(df2[df2['Cluster']==i].index.values)\n",
    "        \n",
    "    v0=list_clusters[order[0]][0]\n",
    "    #2 listes : la liste des premiers éléments de chaque cluster et celle des derniers\n",
    "    firsts=[v0]\n",
    "    lasts=[v0]\n",
    "    #un seul element dans le cluster contenant v0\n",
    "    \n",
    "    #on compare les distances entre v0 et chaque élément du cluster suivant et on prend le min puis on repete avec chaque cluster\n",
    "    for i in range(1, len(list_clusters)-2):\n",
    "        next_cluster=order[i]\n",
    "        #print(next_cluster)\n",
    "        mini = 100000.0\n",
    "        list_next=list_clusters[next_cluster][0]\n",
    "        first_next_cluster = l[next_cluster][0][0]\n",
    "        \n",
    "        #distance dans dt2 : colonne vers ligne\n",
    "        for j in range(len(l[next_cluster])):\n",
    "            if dt2[lasts[-1]][l[next_cluster][j]]<mini:\n",
    "                mini=dt2[lasts[-1]][l[next_cluster][j]]\n",
    "                first_next_cluster= l[next_cluster][j]\n",
    "        #print(first_next_cluster)\n",
    "        \n",
    "        #on ajoute le first du cluster suivant à la liste des first (la liste sera dans l'ordre de parcours des clusters)\n",
    "        firsts.append(first_next_cluster)\n",
    "        \n",
    "        #pour avoir le lasts, on cherche celui le plus proche géographiquement du prochain cluster\n",
    "        next_next_cluster=order[i+1]\n",
    "        \n",
    "        center_0=centers[:,0][next_next_cluster]\n",
    "        center_1=centers[:,1][next_next_cluster]\n",
    "        #print(center_0)\n",
    "        mini=100000.0\n",
    "        dist_geog=[]\n",
    "        for j in range(len(l[next_cluster])):\n",
    "            x_j=center_0\n",
    "            print(x_j)\n",
    "            x_i=l[next_cluster][j]\n",
    "            print(x_i)\n",
    "            dist_geog.append(x_j-x_i)\n",
    "            \n",
    "        print(dist_geog.index(min(dist_geog)))\n",
    "        \n",
    "        \n",
    "    \n",
    "    \n"
   ]
  },
  {
   "cell_type": "code",
   "execution_count": null,
   "metadata": {},
   "outputs": [],
   "source": []
  },
  {
   "cell_type": "code",
   "execution_count": 203,
   "metadata": {
    "tags": []
   },
   "outputs": [
    {
     "name": "stdout",
     "output_type": "stream",
     "text": [
      "262.9142857142857\n",
      "CK\n"
     ]
    },
    {
     "ename": "UFuncTypeError",
     "evalue": "ufunc 'subtract' did not contain a loop with signature matching types (dtype('float64'), dtype('<U2')) -> None",
     "output_type": "error",
     "traceback": [
      "\u001b[0;31m---------------------------------------------------------------------------\u001b[0m",
      "\u001b[0;31mUFuncTypeError\u001b[0m                            Traceback (most recent call last)",
      "Cell \u001b[0;32mIn[203], line 1\u001b[0m\n\u001b[0;32m----> 1\u001b[0m \u001b[43mfirst_and_last_in_cluster\u001b[49m\u001b[43m(\u001b[49m\u001b[43mlist_clusters\u001b[49m\u001b[43m,\u001b[49m\u001b[43m \u001b[49m\u001b[43morder_clusters\u001b[49m\u001b[43m)\u001b[49m\n",
      "Cell \u001b[0;32mIn[202], line 44\u001b[0m, in \u001b[0;36mfirst_and_last_in_cluster\u001b[0;34m(l, order)\u001b[0m\n\u001b[1;32m     42\u001b[0m     x_i\u001b[38;5;241m=\u001b[39ml[next_cluster][j]\n\u001b[1;32m     43\u001b[0m     \u001b[38;5;28mprint\u001b[39m(x_i)\n\u001b[0;32m---> 44\u001b[0m     dist_geog\u001b[38;5;241m.\u001b[39mappend(\u001b[43mx_j\u001b[49m\u001b[38;5;241;43m-\u001b[39;49m\u001b[43mx_i\u001b[49m)\n\u001b[1;32m     46\u001b[0m \u001b[38;5;28mprint\u001b[39m(dist_geog\u001b[38;5;241m.\u001b[39mindex(\u001b[38;5;28mmin\u001b[39m(dist_geog)))\n",
      "\u001b[0;31mUFuncTypeError\u001b[0m: ufunc 'subtract' did not contain a loop with signature matching types (dtype('float64'), dtype('<U2')) -> None"
     ]
    }
   ],
   "source": [
    "first_and_last_in_cluster(list_clusters, order_clusters)"
   ]
  },
  {
   "cell_type": "code",
   "execution_count": 281,
   "metadata": {
    "tags": []
   },
   "outputs": [],
   "source": [
    "def first_and_last_in_cluster(l, order):\n",
    "    \n",
    "        \n",
    "    list_clusters=[]\n",
    "    for i in range(number_cluster):\n",
    "        list_clusters.append(df2[df2['Cluster']==i].index.values)\n",
    "        \n",
    "    v0=list_clusters[order[0]][0]\n",
    "    #2 listes : la liste des premiers éléments de chaque cluster et celle des derniers\n",
    "    firsts=[]\n",
    "    lasts=[v0]\n",
    "    #un seul element dans le cluster contenant v0\n",
    "    \n",
    "    #on récupère le premier élément du 2e cluster\n",
    "    next_cluster=order[1]\n",
    "        #print(next_cluster)\n",
    "    mini = 100000.0\n",
    "    list_next=list_clusters[next_cluster][0]\n",
    "    first_next_cluster = l[next_cluster][0][0]\n",
    "        \n",
    "    #distance dans dt2 : colonne vers ligne\n",
    "    for j in range(len(l[next_cluster])):\n",
    "        if dt2[lasts[-1]][l[next_cluster][j]]<mini:\n",
    "            mini=dt2[lasts[-1]][l[next_cluster][j]]\n",
    "            first_next_cluster= l[next_cluster][j]\n",
    "        #print(first_next_cluster)\n",
    "        \n",
    "        #on ajoute le first du cluster suivant à la liste des first (la liste sera dans l'ordre de parcours des clusters)\n",
    "    firsts.append(first_next_cluster)\n",
    "    \n",
    "    #trouve les 2 plus rapprochés entre 2 clusters\n",
    "    for i in range(1, number_cluster-1):\n",
    "        list_index_min=[]\n",
    "        list_min=[]\n",
    "        dist_tot=[]\n",
    "        for j in range(len(list_clusters[order[i]])):\n",
    "            dist_j=[]\n",
    "            if (list_clusters[order[i]][j]==firsts[-1] or list_clusters[order[i]][j]==first_next_cluster):\n",
    "                dist_j=[1000000.0 for i in range(len(list_clusters[order[i+1]]))]\n",
    "            else:\n",
    "                for k in range(len(list_clusters[order[i+1]])):\n",
    "                    dist_j.append(dt2[list_clusters[order[i]][j]][list_clusters[order[i+1]][k]])\n",
    "            list_min.append(min(dist_j))\n",
    "            list_index_min.append(dist_j.index(min(dist_j)))\n",
    "            dist_tot.append(dist_j)\n",
    "        min_global=min(list_min)\n",
    "        index_min_j=list_min.index(min_global)\n",
    "        \n",
    "        index_min_k=list_index_min[index_min_j]\n",
    "        \n",
    "        lasts.append(list_clusters[order[i]][index_min_j])\n",
    "        firsts.append(list_clusters[order[i+1]][index_min_k])\n",
    "        \n",
    "    print(firsts)\n",
    "    print(lasts)\n",
    "        \n",
    "                                                            "
   ]
  },
  {
   "cell_type": "code",
   "execution_count": 282,
   "metadata": {
    "tags": []
   },
   "outputs": [
    {
     "name": "stdout",
     "output_type": "stream",
     "text": [
      "['PS', 'KU', 'QX', 'GU', 'VC', 'CG', 'QM', 'US', 'KJ', 'SQ']\n",
      "['VE', 'CK', 'EO', 'UI', 'IW', 'ZB', 'LG', 'GB', 'TK', 'KA']\n"
     ]
    }
   ],
   "source": [
    "first_and_last_in_cluster(list_clusters, order_clusters)"
   ]
  },
  {
   "cell_type": "code",
   "execution_count": null,
   "metadata": {},
   "outputs": [],
   "source": []
  }
 ],
 "metadata": {
  "kernelspec": {
   "display_name": "Python 3 (ipykernel)",
   "language": "python",
   "name": "python3"
  },
  "language_info": {
   "codemirror_mode": {
    "name": "ipython",
    "version": 3
   },
   "file_extension": ".py",
   "mimetype": "text/x-python",
   "name": "python",
   "nbconvert_exporter": "python",
   "pygments_lexer": "ipython3",
   "version": "3.10.10"
  }
 },
 "nbformat": 4,
 "nbformat_minor": 4
}
